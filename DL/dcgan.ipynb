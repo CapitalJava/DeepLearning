{
  "nbformat": 4,
  "nbformat_minor": 0,
  "metadata": {
    "accelerator": "GPU",
    "colab": {
      "name": "Copy of dcgan.ipynb",
      "provenance": [],
      "collapsed_sections": [],
      "toc_visible": true
    },
    "kernelspec": {
      "display_name": "Python 3",
      "language": "python",
      "name": "python3"
    },
    "language_info": {
      "codemirror_mode": {
        "name": "ipython",
        "version": 3
      },
      "file_extension": ".py",
      "mimetype": "text/x-python",
      "name": "python",
      "nbconvert_exporter": "python",
      "pygments_lexer": "ipython3",
      "version": "3.7.6"
    }
  },
  "cells": [
    {
      "cell_type": "markdown",
      "metadata": {
        "colab_type": "text",
        "id": "TjPTaRB4mpCd"
      },
      "source": [
        "# Colab FAQ\n",
        "\n",
        "For some basic overview and features offered in Colab notebooks, check out: [Overview of Colaboratory Features](https://colab.research.google.com/notebooks/basic_features_overview.ipynb)\n",
        "\n",
        "You need to use the colab GPU for this assignmentby selecting:\n",
        "\n",
        "> **Runtime**   →   **Change runtime type**   →   **Hardware Accelerator: GPU**"
      ]
    },
    {
      "cell_type": "markdown",
      "metadata": {
        "colab_type": "text",
        "id": "s9IS9B9-yUU5"
      },
      "source": [
        "## Setup PyTorch\n",
        "All files are stored at /content/csc421/a4/ folder\n"
      ]
    },
    {
      "cell_type": "code",
      "metadata": {
        "colab_type": "code",
        "id": "Z-6MQhMOlHXD",
        "outputId": "b65b18cd-8306-4972-a15c-bfb6d029ad9f",
        "colab": {
          "base_uri": "https://localhost:8080/",
          "height": 326
        }
      },
      "source": [
        "######################################################################\n",
        "# Setup python environment and change the current working directory\n",
        "######################################################################\n",
        "!pip install torch torchvision\n",
        "!pip install imageio\n",
        "\n",
        "!pip install matplotlib\n",
        "\n",
        "%mkdir -p /content/csc421/a4/\n",
        "%cd /content/csc421/a4"
      ],
      "execution_count": 0,
      "outputs": [
        {
          "output_type": "stream",
          "text": [
            "Requirement already satisfied: torch in /usr/local/lib/python3.6/dist-packages (1.4.0)\n",
            "Requirement already satisfied: torchvision in /usr/local/lib/python3.6/dist-packages (0.5.0)\n",
            "Requirement already satisfied: numpy in /usr/local/lib/python3.6/dist-packages (from torchvision) (1.18.2)\n",
            "Requirement already satisfied: pillow>=4.1.1 in /usr/local/lib/python3.6/dist-packages (from torchvision) (7.0.0)\n",
            "Requirement already satisfied: six in /usr/local/lib/python3.6/dist-packages (from torchvision) (1.12.0)\n",
            "Requirement already satisfied: imageio in /usr/local/lib/python3.6/dist-packages (2.4.1)\n",
            "Requirement already satisfied: pillow in /usr/local/lib/python3.6/dist-packages (from imageio) (7.0.0)\n",
            "Requirement already satisfied: numpy in /usr/local/lib/python3.6/dist-packages (from imageio) (1.18.2)\n",
            "Requirement already satisfied: matplotlib in /usr/local/lib/python3.6/dist-packages (3.2.1)\n",
            "Requirement already satisfied: cycler>=0.10 in /usr/local/lib/python3.6/dist-packages (from matplotlib) (0.10.0)\n",
            "Requirement already satisfied: kiwisolver>=1.0.1 in /usr/local/lib/python3.6/dist-packages (from matplotlib) (1.1.0)\n",
            "Requirement already satisfied: numpy>=1.11 in /usr/local/lib/python3.6/dist-packages (from matplotlib) (1.18.2)\n",
            "Requirement already satisfied: pyparsing!=2.0.4,!=2.1.2,!=2.1.6,>=2.0.1 in /usr/local/lib/python3.6/dist-packages (from matplotlib) (2.4.6)\n",
            "Requirement already satisfied: python-dateutil>=2.1 in /usr/local/lib/python3.6/dist-packages (from matplotlib) (2.8.1)\n",
            "Requirement already satisfied: six in /usr/local/lib/python3.6/dist-packages (from cycler>=0.10->matplotlib) (1.12.0)\n",
            "Requirement already satisfied: setuptools in /usr/local/lib/python3.6/dist-packages (from kiwisolver>=1.0.1->matplotlib) (46.0.0)\n",
            "/content/csc421/a4\n"
          ],
          "name": "stdout"
        }
      ]
    },
    {
      "cell_type": "markdown",
      "metadata": {
        "colab_type": "text",
        "id": "9DaTdRNuUra7"
      },
      "source": [
        "# Helper code"
      ]
    },
    {
      "cell_type": "markdown",
      "metadata": {
        "colab_type": "text",
        "id": "4BIpGwANoQOg"
      },
      "source": [
        "## Utility functions"
      ]
    },
    {
      "cell_type": "code",
      "metadata": {
        "colab_type": "code",
        "id": "D-UJHBYZkh7f",
        "colab": {}
      },
      "source": [
        "import os\n",
        "\n",
        "import numpy as np\n",
        "import matplotlib.pyplot as plt\n",
        "\n",
        "import torch\n",
        "from torch import nn\n",
        "from torch.nn import Parameter\n",
        "import torch.nn.functional as F\n",
        "import torch.optim as optim\n",
        "from torch.autograd import Variable\n",
        "from torch.utils.data import DataLoader\n",
        "from torchvision import datasets\n",
        "from torchvision import transforms\n",
        "\n",
        "from six.moves.urllib.request import urlretrieve\n",
        "import tarfile\n",
        "\n",
        "import imageio\n",
        "from urllib.error import URLError\n",
        "from urllib.error import HTTPError\n",
        "\n",
        "\n",
        "def get_file(fname,\n",
        "             origin,\n",
        "             untar=False,\n",
        "             extract=False,\n",
        "             archive_format='auto',\n",
        "             cache_dir='data'):\n",
        "    datadir = os.path.join(cache_dir)\n",
        "    if not os.path.exists(datadir):\n",
        "        os.makedirs(datadir)\n",
        "\n",
        "    if untar:\n",
        "        untar_fpath = os.path.join(datadir, fname)\n",
        "        fpath = untar_fpath + '.tar.gz'\n",
        "    else:\n",
        "        fpath = os.path.join(datadir, fname)\n",
        "\n",
        "    print(fpath)\n",
        "    if not os.path.exists(fpath):\n",
        "        print('Downloading data from', origin)\n",
        "\n",
        "        error_msg = 'URL fetch failure on {}: {} -- {}'\n",
        "        try:\n",
        "            try:\n",
        "                urlretrieve(origin, fpath)\n",
        "            except URLError as e:\n",
        "                raise Exception(error_msg.format(origin, e.errno, e.reason))\n",
        "            except HTTPError as e:\n",
        "                raise Exception(error_msg.format(origin, e.code, e.msg))\n",
        "        except (Exception, KeyboardInterrupt) as e:\n",
        "            if os.path.exists(fpath):\n",
        "                os.remove(fpath)\n",
        "            raise\n",
        "\n",
        "    if untar:\n",
        "        if not os.path.exists(untar_fpath):\n",
        "            print('Extracting file.')\n",
        "            with tarfile.open(fpath) as archive:\n",
        "                archive.extractall(datadir)\n",
        "        return untar_fpath\n",
        "\n",
        "    return fpath\n",
        "\n",
        "\n",
        "class AttrDict(dict):\n",
        "    def __init__(self, *args, **kwargs):\n",
        "        super(AttrDict, self).__init__(*args, **kwargs)\n",
        "        self.__dict__ = self\n",
        "\n",
        "                \n",
        "def to_var(tensor, cuda=True):\n",
        "    \"\"\"Wraps a Tensor in a Variable, optionally placing it on the GPU.\n",
        "\n",
        "        Arguments:\n",
        "            tensor: A Tensor object.\n",
        "            cuda: A boolean flag indicating whether to use the GPU.\n",
        "\n",
        "        Returns:\n",
        "            A Variable object, on the GPU if cuda==True.\n",
        "    \"\"\"\n",
        "    if cuda:\n",
        "        return Variable(tensor.cuda())\n",
        "    else:\n",
        "        return Variable(tensor)\n",
        "\n",
        "    \n",
        "def to_data(x):\n",
        "    \"\"\"Converts variable to numpy.\"\"\"\n",
        "    if torch.cuda.is_available():\n",
        "        x = x.cpu()\n",
        "    return x.data.numpy()\n",
        "\n",
        "\n",
        "def create_dir(directory):\n",
        "    \"\"\"Creates a directory if it doesn't already exist.\n",
        "    \"\"\"\n",
        "    if not os.path.exists(directory):\n",
        "        os.makedirs(directory)\n",
        "\n",
        "\n",
        "def gan_checkpoint(iteration, G, D, opts):\n",
        "    \"\"\"Saves the parameters of the generator G and discriminator D.\n",
        "    \"\"\"\n",
        "    G_path = os.path.join(opts.checkpoint_dir, 'G.pkl')\n",
        "    D_path = os.path.join(opts.checkpoint_dir, 'D.pkl')\n",
        "    torch.save(G.state_dict(), G_path)\n",
        "    torch.save(D.state_dict(), D_path)\n",
        "\n",
        "\n",
        "def cyclegan_checkpoint(iteration, G_XtoY, G_YtoX, D_X, D_Y, opts):\n",
        "    \"\"\"Saves the parameters of both generators G_YtoX, G_XtoY and discriminators D_X, D_Y.\n",
        "    \"\"\"\n",
        "    G_XtoY_path = os.path.join(opts.checkpoint_dir, 'G_XtoY.pkl')\n",
        "    G_YtoX_path = os.path.join(opts.checkpoint_dir, 'G_YtoX.pkl')\n",
        "    D_X_path = os.path.join(opts.checkpoint_dir, 'D_X.pkl')\n",
        "    D_Y_path = os.path.join(opts.checkpoint_dir, 'D_Y.pkl')\n",
        "    torch.save(G_XtoY.state_dict(), G_XtoY_path)\n",
        "    torch.save(G_YtoX.state_dict(), G_YtoX_path)\n",
        "    torch.save(D_X.state_dict(), D_X_path)\n",
        "    torch.save(D_Y.state_dict(), D_Y_path)\n",
        "\n",
        "\n",
        "def load_checkpoint(opts):\n",
        "    \"\"\"Loads the generator and discriminator models from checkpoints.\n",
        "    \"\"\"\n",
        "    G_XtoY_path = os.path.join(opts.load, 'G_XtoY.pkl')\n",
        "    G_YtoX_path = os.path.join(opts.load, 'G_YtoX.pkl')\n",
        "    D_X_path = os.path.join(opts.load, 'D_X.pkl')\n",
        "    D_Y_path = os.path.join(opts.load, 'D_Y.pkl')\n",
        "\n",
        "    G_XtoY = CycleGenerator(conv_dim=opts.g_conv_dim, init_zero_weights=opts.init_zero_weights)\n",
        "    G_YtoX = CycleGenerator(conv_dim=opts.g_conv_dim, init_zero_weights=opts.init_zero_weights)\n",
        "    D_X = DCDiscriminator(conv_dim=opts.d_conv_dim)\n",
        "    D_Y = DCDiscriminator(conv_dim=opts.d_conv_dim)\n",
        "\n",
        "    G_XtoY.load_state_dict(torch.load(G_XtoY_path, map_location=lambda storage, loc: storage))\n",
        "    G_YtoX.load_state_dict(torch.load(G_YtoX_path, map_location=lambda storage, loc: storage))\n",
        "    D_X.load_state_dict(torch.load(D_X_path, map_location=lambda storage, loc: storage))\n",
        "    D_Y.load_state_dict(torch.load(D_Y_path, map_location=lambda storage, loc: storage))\n",
        "\n",
        "    if torch.cuda.is_available():\n",
        "        G_XtoY.cuda()\n",
        "        G_YtoX.cuda()\n",
        "        D_X.cuda()\n",
        "        D_Y.cuda()\n",
        "        print('Models moved to GPU.')\n",
        "\n",
        "    return G_XtoY, G_YtoX, D_X, D_Y\n",
        "\n",
        "\n",
        "def merge_images(sources, targets, opts):\n",
        "    \"\"\"Creates a grid consisting of pairs of columns, where the first column in\n",
        "    each pair contains images source images and the second column in each pair\n",
        "    contains images generated by the CycleGAN from the corresponding images in\n",
        "    the first column.\n",
        "    \"\"\"\n",
        "    _, _, h, w = sources.shape\n",
        "    row = int(np.sqrt(opts.batch_size))\n",
        "    merged = np.zeros([3, row * h, row * w * 2])\n",
        "    for (idx, s, t) in (zip(range(row ** 2), sources, targets, )):\n",
        "        i = idx // row\n",
        "        j = idx % row\n",
        "        merged[:, i * h:(i + 1) * h, (j * 2) * h:(j * 2 + 1) * h] = s\n",
        "        merged[:, i * h:(i + 1) * h, (j * 2 + 1) * h:(j * 2 + 2) * h] = t\n",
        "    return merged.transpose(1, 2, 0)\n",
        "\n",
        "\n",
        "def generate_gif(directory_path, keyword=None):\n",
        "    images = []\n",
        "    for filename in sorted(os.listdir(directory_path)):\n",
        "        if filename.endswith(\".png\") and (keyword is None or keyword in filename):\n",
        "            img_path = os.path.join(directory_path, filename)\n",
        "            print(\"adding image {}\".format(img_path))\n",
        "            images.append(imageio.imread(img_path))\n",
        "\n",
        "    if keyword:\n",
        "        imageio.mimsave(\n",
        "            os.path.join(directory_path, 'anim_{}.gif'.format(keyword)), images)\n",
        "    else:\n",
        "        imageio.mimsave(os.path.join(directory_path, 'anim.gif'), images)\n",
        "\n",
        "\n",
        "def create_image_grid(array, ncols=None):\n",
        "    \"\"\"\n",
        "    \"\"\"\n",
        "    num_images, channels, cell_h, cell_w = array.shape\n",
        "    if not ncols:\n",
        "        ncols = int(np.sqrt(num_images))\n",
        "    nrows = int(np.math.floor(num_images / float(ncols)))\n",
        "    result = np.zeros((cell_h * nrows, cell_w * ncols, channels), dtype=array.dtype)\n",
        "    for i in range(0, nrows):\n",
        "        for j in range(0, ncols):\n",
        "            result[i * cell_h:(i + 1) * cell_h, j * cell_w:(j + 1) * cell_w, :] = array[i * ncols + j].transpose(1, 2,\n",
        "                                                                                                                 0)\n",
        "\n",
        "    if channels == 1:\n",
        "        result = result.squeeze()\n",
        "    return result\n",
        "\n",
        "\n",
        "def gan_save_samples(G, fixed_noise, iteration, opts):\n",
        "    generated_images = G(fixed_noise)\n",
        "    generated_images = to_data(generated_images)\n",
        "\n",
        "    grid = create_image_grid(generated_images)\n",
        "\n",
        "    # merged = merge_images(X, fake_Y, opts)\n",
        "    path = os.path.join(opts.sample_dir, 'sample-{:06d}.png'.format(iteration))\n",
        "    imageio.imwrite(path, grid)\n",
        "    print('Saved {}'.format(path))\n",
        "\n",
        "\n",
        "def cyclegan_save_samples(iteration, fixed_Y, fixed_X, G_YtoX, G_XtoY, opts):\n",
        "    \"\"\"Saves samples from both generators X->Y and Y->X.\n",
        "    \"\"\"\n",
        "    fake_X = G_YtoX(fixed_Y)\n",
        "    fake_Y = G_XtoY(fixed_X)\n",
        "\n",
        "    X, fake_X = to_data(fixed_X), to_data(fake_X)\n",
        "    Y, fake_Y = to_data(fixed_Y), to_data(fake_Y)\n",
        "\n",
        "    merged = merge_images(X, fake_Y, opts)\n",
        "    path = os.path.join(opts.sample_dir, 'sample-{:06d}-X-Y.png'.format(iteration))\n",
        "    imageio.imwrite(path, merged)\n",
        "    print('Saved {}'.format(path))\n",
        "\n",
        "    merged = merge_images(Y, fake_X, opts)\n",
        "    path = os.path.join(opts.sample_dir, 'sample-{:06d}-Y-X.png'.format(iteration))\n",
        "    imageio.imwrite(path, merged)\n",
        "    print('Saved {}'.format(path))"
      ],
      "execution_count": 0,
      "outputs": []
    },
    {
      "cell_type": "markdown",
      "metadata": {
        "colab_type": "text",
        "id": "pbvpn4MaV0I1"
      },
      "source": [
        "## Data loader"
      ]
    },
    {
      "cell_type": "code",
      "metadata": {
        "colab_type": "code",
        "id": "XVT4TNTOV3Eg",
        "colab": {}
      },
      "source": [
        "def get_emoji_loader(emoji_type, opts):\n",
        "    \"\"\"Creates training and test data loaders.\n",
        "    \"\"\"\n",
        "    transform = transforms.Compose([\n",
        "                    transforms.Scale(opts.image_size),\n",
        "                    transforms.ToTensor(),\n",
        "                    transforms.Normalize((0.5, 0.5, 0.5), (0.5, 0.5, 0.5))\n",
        "                ])\n",
        "\n",
        "    train_path = os.path.join('data/emojis', emoji_type)\n",
        "    test_path = os.path.join('data/emojis', 'Test_{}'.format(emoji_type))\n",
        "\n",
        "    train_dataset = datasets.ImageFolder(train_path, transform)\n",
        "    test_dataset = datasets.ImageFolder(test_path, transform)\n",
        "\n",
        "    train_dloader = DataLoader(dataset=train_dataset, batch_size=opts.batch_size, shuffle=True, num_workers=opts.num_workers)\n",
        "    test_dloader = DataLoader(dataset=test_dataset, batch_size=opts.batch_size, shuffle=False, num_workers=opts.num_workers)\n",
        "\n",
        "    return train_dloader, test_dloader"
      ],
      "execution_count": 0,
      "outputs": []
    },
    {
      "cell_type": "markdown",
      "metadata": {
        "colab_type": "text",
        "id": "bRWfRdmVVjUl"
      },
      "source": [
        "## Training and evaluation code"
      ]
    },
    {
      "cell_type": "code",
      "metadata": {
        "colab_type": "code",
        "id": "nSIhQp41q_Nu",
        "colab": {}
      },
      "source": [
        "def print_models(G_XtoY, G_YtoX, D_X, D_Y):\n",
        "    \"\"\"Prints model information for the generators and discriminators.\n",
        "    \"\"\"\n",
        "    if G_YtoX:\n",
        "        print(\"                 G_XtoY                \")\n",
        "        print(\"---------------------------------------\")\n",
        "        print(G_XtoY)\n",
        "        print(\"---------------------------------------\")\n",
        "\n",
        "        print(\"                 G_YtoX                \")\n",
        "        print(\"---------------------------------------\")\n",
        "        print(G_YtoX)\n",
        "        print(\"---------------------------------------\")\n",
        "\n",
        "        print(\"                  D_X                  \")\n",
        "        print(\"---------------------------------------\")\n",
        "        print(D_X)\n",
        "        print(\"---------------------------------------\")\n",
        "\n",
        "        print(\"                  D_Y                  \")\n",
        "        print(\"---------------------------------------\")\n",
        "        print(D_Y)\n",
        "        print(\"---------------------------------------\")\n",
        "    else:\n",
        "        print(\"                 G                     \")\n",
        "        print(\"---------------------------------------\")\n",
        "        print(G_XtoY)\n",
        "        print(\"---------------------------------------\")\n",
        "\n",
        "        print(\"                  D                    \")\n",
        "        print(\"---------------------------------------\")\n",
        "        print(D_X)\n",
        "        print(\"---------------------------------------\")\n",
        "\n",
        "\n",
        "def create_model(opts):\n",
        "    \"\"\"Builds the generators and discriminators.\n",
        "    \"\"\"\n",
        "    if opts.Y is None:\n",
        "        ### GAN\n",
        "        G = DCGenerator(noise_size=opts.noise_size, conv_dim=opts.g_conv_dim, spectral_norm=opts.spectral_norm)\n",
        "        D = DCDiscriminator(conv_dim=opts.d_conv_dim, spectral_norm=opts.spectral_norm)\n",
        "\n",
        "        print_models(G, None, D, None)\n",
        "\n",
        "        if torch.cuda.is_available():\n",
        "            G.cuda()\n",
        "            D.cuda()\n",
        "            print('Models moved to GPU.')\n",
        "        return G, D\n",
        "          \n",
        "    else:\n",
        "        ### CycleGAN\n",
        "        G_XtoY = CycleGenerator(conv_dim=opts.g_conv_dim, init_zero_weights=opts.init_zero_weights)\n",
        "        G_YtoX = CycleGenerator(conv_dim=opts.g_conv_dim, init_zero_weights=opts.init_zero_weights)\n",
        "        D_X = DCDiscriminator(conv_dim=opts.d_conv_dim)\n",
        "        D_Y = DCDiscriminator(conv_dim=opts.d_conv_dim)\n",
        "\n",
        "        print_models(G_XtoY, G_YtoX, D_X, D_Y)\n",
        "\n",
        "        if torch.cuda.is_available():\n",
        "            G_XtoY.cuda()\n",
        "            G_YtoX.cuda()\n",
        "            D_X.cuda()\n",
        "            D_Y.cuda()\n",
        "            print('Models moved to GPU.')\n",
        "        return G_XtoY, G_YtoX, D_X, D_Y\n",
        "\n",
        "\n",
        "def train(opts):\n",
        "    \"\"\"Loads the data, creates checkpoint and sample directories, and starts the training loop.\n",
        "    \"\"\"\n",
        "\n",
        "    # Create train and test dataloaders for images from the two domains X and Y\n",
        "    dataloader_X, test_dataloader_X = get_emoji_loader(emoji_type=opts.X, opts=opts)\n",
        "    if opts.Y:\n",
        "        dataloader_Y, test_dataloader_Y = get_emoji_loader(emoji_type=opts.Y, opts=opts)\n",
        "\n",
        "    # Create checkpoint and sample directories\n",
        "    create_dir(opts.checkpoint_dir)\n",
        "    create_dir(opts.sample_dir)\n",
        "\n",
        "    # Start training\n",
        "    if opts.Y is None:\n",
        "        G, D = gan_training_loop(dataloader_X, test_dataloader_X, opts)\n",
        "        return G, D\n",
        "    else:\n",
        "        G_XtoY, G_YtoX, D_X, D_Y = cyclegan_training_loop(dataloader_X, dataloader_Y, test_dataloader_X, test_dataloader_Y, opts)\n",
        "        return G_XtoY, G_YtoX, D_X, D_Y\n",
        "\n",
        "\n",
        "def print_opts(opts):\n",
        "    \"\"\"Prints the values of all command-line arguments.\n",
        "    \"\"\"\n",
        "    print('=' * 80)\n",
        "    print('Opts'.center(80))\n",
        "    print('-' * 80)\n",
        "    for key in opts.__dict__:\n",
        "        if opts.__dict__[key]:\n",
        "            print('{:>30}: {:<30}'.format(key, opts.__dict__[key]).center(80))\n",
        "    print('=' * 80)\n"
      ],
      "execution_count": 0,
      "outputs": []
    },
    {
      "cell_type": "markdown",
      "metadata": {
        "colab_type": "text",
        "id": "bXNsLNkOn38w"
      },
      "source": [
        "# Your code for generators and discriminators"
      ]
    },
    {
      "cell_type": "markdown",
      "metadata": {
        "colab_type": "text",
        "id": "u0KxX0sDpXKb"
      },
      "source": [
        "## Helper modules"
      ]
    },
    {
      "cell_type": "code",
      "metadata": {
        "colab_type": "code",
        "id": "y7s0etAmpUgT",
        "colab": {}
      },
      "source": [
        "def sample_noise(batch_size, dim):\n",
        "    \"\"\"\n",
        "    Generate a PyTorch Tensor of uniform random noise.\n",
        "\n",
        "    Input:\n",
        "    - batch_size: Integer giving the batch size of noise to generate.\n",
        "    - dim: Integer giving the dimension of noise to generate.\n",
        "\n",
        "    Output:\n",
        "    - A PyTorch Tensor of shape (batch_size, dim, 1, 1) containing uniform\n",
        "      random noise in the range (-1, 1).\n",
        "    \"\"\"\n",
        "    return to_var(torch.rand(batch_size, dim) * 2 - 1).unsqueeze(2).unsqueeze(3)\n",
        "  \n",
        "\n",
        "def upconv(in_channels, out_channels, kernel_size, stride=2, padding=2, batch_norm=True, spectral_norm=False):\n",
        "    \"\"\"Creates a upsample-and-convolution layer, with optional batch normalization.\n",
        "    \"\"\"\n",
        "    layers = []\n",
        "    if stride>1:\n",
        "        layers.append(nn.Upsample(scale_factor=stride))\n",
        "    conv_layer = nn.Conv2d(in_channels=in_channels, out_channels=out_channels, kernel_size=kernel_size, stride=1, padding=padding, bias=False)\n",
        "    if spectral_norm:\n",
        "        layers.append(SpectralNorm(conv_layer))\n",
        "    else:\n",
        "        layers.append(conv_layer)\n",
        "    if batch_norm:\n",
        "        layers.append(nn.BatchNorm2d(out_channels))\n",
        "    return nn.Sequential(*layers)\n",
        "\n",
        "\n",
        "def conv(in_channels, out_channels, kernel_size, stride=2, padding=2, batch_norm=True, init_zero_weights=False, spectral_norm=False):\n",
        "    \"\"\"Creates a convolutional layer, with optional batch normalization.\n",
        "    \"\"\"\n",
        "    layers = []\n",
        "    conv_layer = nn.Conv2d(in_channels=in_channels, out_channels=out_channels, kernel_size=kernel_size, stride=stride, padding=padding, bias=False)\n",
        "    if init_zero_weights:\n",
        "        conv_layer.weight.data = torch.randn(out_channels, in_channels, kernel_size, kernel_size) * 0.001\n",
        "            \n",
        "    if spectral_norm:\n",
        "        layers.append(SpectralNorm(conv_layer))\n",
        "    else:\n",
        "        layers.append(conv_layer)\n",
        "\n",
        "    if batch_norm:\n",
        "        layers.append(nn.BatchNorm2d(out_channels))\n",
        "    return nn.Sequential(*layers)\n",
        "  \n",
        "\n",
        "class ResnetBlock(nn.Module):\n",
        "    def __init__(self, conv_dim):\n",
        "        super(ResnetBlock, self).__init__()\n",
        "        self.conv_layer = conv(in_channels=conv_dim, out_channels=conv_dim, kernel_size=3, stride=1, padding=1)\n",
        "\n",
        "    def forward(self, x):\n",
        "        out = x + self.conv_layer(x)\n",
        "        return out"
      ],
      "execution_count": 0,
      "outputs": []
    },
    {
      "cell_type": "markdown",
      "metadata": {
        "colab_type": "text",
        "id": "S0_YbBwe5k35"
      },
      "source": [
        "## DCGAN"
      ]
    },
    {
      "cell_type": "markdown",
      "metadata": {
        "id": "m1E_jDaBLT1P",
        "colab_type": "text"
      },
      "source": [
        "## Spectral Norm class"
      ]
    },
    {
      "cell_type": "code",
      "metadata": {
        "id": "2hy97i1-LT1Q",
        "colab_type": "code",
        "colab": {}
      },
      "source": [
        "def l2normalize(v, eps=1e-12):\n",
        "    return v / (v.norm() + eps)\n",
        "\n",
        "\n",
        "class SpectralNorm(nn.Module):\n",
        "    def __init__(self, module, name='weight', power_iterations=1):\n",
        "        super(SpectralNorm, self).__init__()\n",
        "        self.module = module\n",
        "        self.name = name\n",
        "        self.power_iterations = power_iterations\n",
        "        if not self._made_params():\n",
        "            self._make_params()\n",
        "\n",
        "    def _update_u_v(self):\n",
        "        u = getattr(self.module, self.name + \"_u\")\n",
        "        v = getattr(self.module, self.name + \"_v\")\n",
        "        w = getattr(self.module, self.name + \"_bar\")\n",
        "\n",
        "        height = w.data.shape[0]\n",
        "        for _ in range(self.power_iterations):\n",
        "            v.data = l2normalize(torch.mv(torch.t(w.view(height,-1).data), u.data))\n",
        "            u.data = l2normalize(torch.mv(w.view(height,-1).data, v.data))\n",
        "\n",
        "        # sigma = torch.dot(u.data, torch.mv(w.view(height,-1).data, v.data))\n",
        "        sigma = u.dot(w.view(height, -1).mv(v))\n",
        "        setattr(self.module, self.name, w / sigma.expand_as(w))\n",
        "\n",
        "    def _made_params(self):\n",
        "        try:\n",
        "            u = getattr(self.module, self.name + \"_u\")\n",
        "            v = getattr(self.module, self.name + \"_v\")\n",
        "            w = getattr(self.module, self.name + \"_bar\")\n",
        "            return True\n",
        "        except AttributeError:\n",
        "            return False\n",
        "\n",
        "    def _make_params(self):\n",
        "        w = getattr(self.module, self.name)\n",
        "\n",
        "        height = w.data.shape[0]\n",
        "        width = w.view(height, -1).data.shape[1]\n",
        "\n",
        "        u = Parameter(w.data.new(height).normal_(0, 1), requires_grad=False)\n",
        "        v = Parameter(w.data.new(width).normal_(0, 1), requires_grad=False)\n",
        "        u.data = l2normalize(u.data)\n",
        "        v.data = l2normalize(v.data)\n",
        "        w_bar = Parameter(w.data)\n",
        "\n",
        "        del self.module._parameters[self.name]\n",
        "\n",
        "        self.module.register_parameter(self.name + \"_u\", u)\n",
        "        self.module.register_parameter(self.name + \"_v\", v)\n",
        "        self.module.register_parameter(self.name + \"_bar\", w_bar)\n",
        "\n",
        "    def forward(self, *args):\n",
        "        self._update_u_v()\n",
        "        return self.module.forward(*args)"
      ],
      "execution_count": 0,
      "outputs": []
    },
    {
      "cell_type": "markdown",
      "metadata": {
        "colab_type": "text",
        "id": "_BAfi_8yWB3y"
      },
      "source": [
        "### GAN generator"
      ]
    },
    {
      "cell_type": "code",
      "metadata": {
        "colab_type": "code",
        "id": "9ztmyA5Ro67o",
        "colab": {}
      },
      "source": [
        "class DCGenerator(nn.Module):\n",
        "    def __init__(self, noise_size, conv_dim, spectral_norm=False):\n",
        "        super(DCGenerator, self).__init__()\n",
        "\n",
        "        self.conv_dim = conv_dim\n",
        "        ###########################################\n",
        "        ##   FILL THIS IN: CREATE ARCHITECTURE   ##\n",
        "        ###########################################\n",
        "\n",
        "        self.linear_bn = upconv(noise_size, conv_dim*4, 5, stride = 4)\n",
        "        self.upconv1 = upconv(conv_dim*4, conv_dim*2, 5)\n",
        "        self.upconv2 = upconv(conv_dim*2, conv_dim, 5)\n",
        "        self.upconv3 = upconv(conv_dim, 3, 5, batch_norm = False)\n",
        "\n",
        "    def forward(self, z):\n",
        "        \"\"\"Generates an image given a sample of random noise.\n",
        "\n",
        "            Input\n",
        "            -----\n",
        "                z: BS x noise_size x 1 x 1   -->  BSx100x1x1 (during training)\n",
        "\n",
        "            Output\n",
        "            ------\n",
        "                out: BS x channels x image_width x image_height  -->  BSx3x32x32 (during training)\n",
        "        \"\"\"\n",
        "        batch_size = z.size(0)\n",
        "        \n",
        "        out = F.relu(self.linear_bn(z)).view(-1, self.conv_dim*4, 4, 4)    # BS x 128 x 4 x 4\n",
        "        out = F.relu(self.upconv1(out))  # BS x 64 x 8 x 8\n",
        "        out = F.relu(self.upconv2(out))  # BS x 32 x 16 x 16\n",
        "        out = F.tanh(self.upconv3(out))  # BS x 3 x 32 x 32\n",
        "        \n",
        "        out_size = out.size()\n",
        "        if out_size != torch.Size([batch_size, 3, 32, 32]):\n",
        "            raise ValueError(\"expect {} x 3 x 32 x 32, but get {}\".format(batch_size, out_size))\n",
        "        return out\n"
      ],
      "execution_count": 0,
      "outputs": []
    },
    {
      "cell_type": "markdown",
      "metadata": {
        "colab_type": "text",
        "id": "cG4uqAVPp8_B"
      },
      "source": [
        "### GAN discriminator"
      ]
    },
    {
      "cell_type": "code",
      "metadata": {
        "colab_type": "code",
        "id": "0GkjXydnqARR",
        "colab": {}
      },
      "source": [
        "class DCDiscriminator(nn.Module):\n",
        "    \"\"\"Defines the architecture of the discriminator network.\n",
        "       Note: Both discriminators D_X and D_Y have the same architecture in this assignment.\n",
        "    \"\"\"\n",
        "    def __init__(self, conv_dim=32, spectral_norm=False):\n",
        "        super(DCDiscriminator, self).__init__()\n",
        "\n",
        "        ###########################################\n",
        "        ##   FILL THIS IN: CREATE ARCHITECTURE   ##\n",
        "        ###########################################\n",
        "\n",
        "        self.conv1 = conv(in_channels=3, out_channels=conv_dim, kernel_size=5, stride=2, spectral_norm=spectral_norm)\n",
        "        self.conv2 = conv(in_channels=conv_dim, out_channels=conv_dim*2, kernel_size=5, stride=2, spectral_norm=spectral_norm)\n",
        "        self.conv3 = conv(in_channels=conv_dim*2, out_channels=conv_dim*4, kernel_size=5, stride=2, spectral_norm=spectral_norm)\n",
        "        self.conv4 = conv(in_channels=conv_dim*4, out_channels=1, kernel_size=5, stride=2, padding=1, batch_norm=False, spectral_norm=spectral_norm)\n",
        "\n",
        "    def forward(self, x):\n",
        "        batch_size = x.size(0)\n",
        "\n",
        "        out = F.relu(self.conv1(x))    # BS x 64 x 16 x 16\n",
        "        out = F.relu(self.conv2(out))    # BS x 64 x 8 x 8\n",
        "        out = F.relu(self.conv3(out))    # BS x 64 x 4 x 4\n",
        "\n",
        "        out = self.conv4(out).squeeze()\n",
        "        out_size = out.size()\n",
        "        if out_size != torch.Size([batch_size,]):\n",
        "            raise ValueError(\"expect {} x 1, but get {}\".format(batch_size, out_size))\n",
        "        return out"
      ],
      "execution_count": 0,
      "outputs": []
    },
    {
      "cell_type": "markdown",
      "metadata": {
        "colab_type": "text",
        "id": "G8RtBMu55ysm"
      },
      "source": [
        "### GAN training loop"
      ]
    },
    {
      "cell_type": "code",
      "metadata": {
        "colab_type": "code",
        "id": "MxIJ2Zua51KI",
        "colab": {}
      },
      "source": [
        "def gan_training_loop(dataloader, test_dataloader, opts):\n",
        "    \"\"\"Runs the training loop.\n",
        "        * Saves checkpoint every opts.checkpoint_every iterations\n",
        "        * Saves generated samples every opts.sample_every iterations\n",
        "    \"\"\"\n",
        "\n",
        "    # Create generators and discriminators\n",
        "    G, D = create_model(opts)\n",
        "\n",
        "    g_params = G.parameters()  # Get generator parameters\n",
        "    d_params = D.parameters()  # Get discriminator parameters\n",
        "\n",
        "    # Create optimizers for the generators and discriminators\n",
        "    g_optimizer = optim.Adam(g_params, opts.lr, [opts.beta1, opts.beta2])\n",
        "    d_optimizer = optim.Adam(d_params, opts.lr * 2., [opts.beta1, opts.beta2])\n",
        "\n",
        "    train_iter = iter(dataloader)\n",
        "\n",
        "    test_iter = iter(test_dataloader)\n",
        "\n",
        "    # Get some fixed data from domains X and Y for sampling. These are images that are held\n",
        "    # constant throughout training, that allow us to inspect the model's performance.\n",
        "    fixed_noise = sample_noise(100, opts.noise_size)  # # 100 x noise_size x 1 x 1\n",
        "\n",
        "    iter_per_epoch = len(train_iter)\n",
        "    total_train_iters = opts.train_iters\n",
        "\n",
        "    losses = {\"iteration\": [], \"D_fake_loss\": [], \"D_real_loss\": [], \"G_loss\": []}\n",
        "\n",
        "    gp_weight = 10\n",
        "\n",
        "    try:\n",
        "        for iteration in range(1, opts.train_iters + 1):\n",
        "\n",
        "            # Reset data_iter for each epoch\n",
        "            if iteration % iter_per_epoch == 0:\n",
        "                train_iter = iter(dataloader)\n",
        "\n",
        "            real_images, real_labels = train_iter.next()\n",
        "            real_images, real_labels = to_var(real_images), to_var(real_labels).long().squeeze()\n",
        "\n",
        "            # ones = Variable(torch.Tensor(real_images.shape[0]).float().cuda().fill_(1.0), requires_grad=False)\n",
        "\n",
        "            for d_i in range(opts.d_train_iters):\n",
        "                d_optimizer.zero_grad()\n",
        "\n",
        "                # FILL THIS IN\n",
        "                # 1. Compute the discriminator loss on real images\n",
        "                D_real_loss = 0.5*torch.mean((D(real_images)-1)**2)\n",
        "\n",
        "                # 2. Sample noise\n",
        "                noise = sample_noise(real_images.shape[0], opts.noise_size)\n",
        "\n",
        "                # 3. Generate fake images from the noise\n",
        "                fake_images = G(noise)\n",
        "                \n",
        "                # 4. Compute the discriminator loss on the fake images\n",
        "                D_fake_loss = 0.5*torch.mean((D(fake_images))**2)\n",
        "\n",
        "                # ---- Gradient Penalty ----\n",
        "                if opts.gradient_penalty:\n",
        "                    alpha = torch.rand(real_images.shape[0], 1, 1, 1)\n",
        "                    alpha = alpha.expand_as(real_images).cuda()\n",
        "                    interp_images = Variable(alpha * real_images.data + (1-alpha) * fake_images.data, requires_grad=True).cuda()\n",
        "                    D_interp_output = D(interp_images)\n",
        "\n",
        "                    gradients = torch.autograd.grad(outputs=D_interp_output, inputs=interp_images,\n",
        "                                                    grad_outputs=torch.ones(D_interp_output.size()).cuda(),\n",
        "                                                    create_graph=True, retain_graph=True)[0]\n",
        "                    gradients = gradients.view(real_images.shape[0], -1)\n",
        "                    gradients_norm = torch.sqrt(torch.sum(gradients ** 2, dim=1) + 1e-12)\n",
        "\n",
        "                    gp = gp_weight * gradients_norm.mean()\n",
        "                else:\n",
        "                    gp = 0.0\n",
        "\n",
        "                # --------------------------\n",
        "                # 5. Compute the total discriminator loss\n",
        "                D_total_loss = D_real_loss + D_fake_loss + gp\n",
        "\n",
        "                D_total_loss.backward()\n",
        "                d_optimizer.step()\n",
        "\n",
        "            ###########################################\n",
        "            ###          TRAIN THE GENERATOR        ###\n",
        "            ###########################################\n",
        "\n",
        "            g_optimizer.zero_grad()\n",
        "\n",
        "            # FILL THIS IN\n",
        "            # 1. Sample noise\n",
        "            noise = sample_noise(real_images.shape[0], opts.noise_size)\n",
        "\n",
        "            # 2. Generate fake images from the noise\n",
        "            fake_images = G(noise)\n",
        "\n",
        "            # 3. Compute the generator loss\n",
        "            G_loss = torch.mean((D(fake_images)-1)**2)\n",
        "\n",
        "            G_loss.backward()\n",
        "            g_optimizer.step()\n",
        "\n",
        "            # Print the log info\n",
        "            if iteration % opts.log_step == 0:\n",
        "                losses['iteration'].append(iteration)\n",
        "                losses['D_real_loss'].append(D_real_loss.item())\n",
        "                losses['D_fake_loss'].append(D_fake_loss.item())\n",
        "                losses['G_loss'].append(G_loss.item())\n",
        "                print('Iteration [{:4d}/{:4d}] | D_real_loss: {:6.4f} | D_fake_loss: {:6.4f} | G_loss: {:6.4f}'.format(\n",
        "                    iteration, total_train_iters, D_real_loss.item(), D_fake_loss.item(), G_loss.item()))\n",
        "\n",
        "            # Save the generated samples\n",
        "            if iteration % opts.sample_every == 0:\n",
        "                gan_save_samples(G, fixed_noise, iteration, opts)\n",
        "\n",
        "            # Save the model parameters\n",
        "            if iteration % opts.checkpoint_every == 0:\n",
        "                gan_checkpoint(iteration, G, D, opts)\n",
        "\n",
        "    except KeyboardInterrupt:\n",
        "        print('Exiting early from training.')\n",
        "        return G, D\n",
        "\n",
        "    plt.figure()\n",
        "    plt.plot(losses['iteration'], losses['D_real_loss'], label='D_real')\n",
        "    plt.plot(losses['iteration'], losses['D_fake_loss'], label='D_fake')\n",
        "    plt.plot(losses['iteration'], losses['G_loss'], label='G')\n",
        "    plt.legend()\n",
        "    plt.savefig(os.path.join(opts.sample_dir, 'losses.png'))\n",
        "    plt.close()\n",
        "    return G, D"
      ],
      "execution_count": 0,
      "outputs": []
    },
    {
      "cell_type": "markdown",
      "metadata": {
        "colab_type": "text",
        "id": "ptSA0rHUuNHa"
      },
      "source": [
        "## CycleGAN"
      ]
    },
    {
      "cell_type": "markdown",
      "metadata": {
        "colab_type": "text",
        "id": "I8lIyRNGuOrv"
      },
      "source": [
        "### CycleGAN generator"
      ]
    },
    {
      "cell_type": "code",
      "metadata": {
        "colab_type": "code",
        "id": "VVswO-M-uXLo",
        "colab": {}
      },
      "source": [
        "class CycleGenerator(nn.Module):\n",
        "    \"\"\"Defines the architecture of the generator network.\n",
        "       Note: Both generators G_XtoY and G_YtoX have the same architecture in this assignment.\n",
        "    \"\"\"\n",
        "    def __init__(self, conv_dim=64, init_zero_weights=False):\n",
        "        super(CycleGenerator, self).__init__()\n",
        "\n",
        "        # 1. Define the encoder part of the generator (that extracts features from the input image)\n",
        "        self.conv1 = conv(in_channels=3, out_channels=conv_dim, kernel_size=5, init_zero_weights=init_zero_weights)\n",
        "        self.conv2 = conv(in_channels=conv_dim, out_channels=conv_dim*2, kernel_size=5, init_zero_weights=init_zero_weights)\n",
        "\n",
        "        # 2. Define the transformation part of the generator\n",
        "        self.resnet_block  = ResnetBlock(conv_dim*2)\n",
        "\n",
        "        # 3. Define the decoder part of the generator (that builds up the output image from features)\n",
        "        self.upconv1 = upconv(in_channels=conv_dim*2, out_channels=conv_dim, kernel_size=5)\n",
        "        self.upconv2 = upconv(in_channels=conv_dim, out_channels=3, kernel_size=5, batch_norm=False)\n",
        "\n",
        "    def forward(self, x):\n",
        "        \"\"\"Generates an image conditioned on an input image.\n",
        "\n",
        "            Input\n",
        "            -----\n",
        "                x: BS x 3 x 32 x 32\n",
        "\n",
        "            Output\n",
        "            ------\n",
        "                out: BS x 3 x 32 x 32\n",
        "        \"\"\"\n",
        "        batch_size = x.size(0)\n",
        "        \n",
        "        out = F.relu(self.conv1(x))            # BS x 32 x 16 x 16\n",
        "        out = F.relu(self.conv2(out))          # BS x 64 x 8 x 8\n",
        "        \n",
        "        out = F.relu(self.resnet_block(out))   # BS x 64 x 8 x 8\n",
        "\n",
        "        out = F.relu(self.upconv1(out))        # BS x 32 x 16 x 16\n",
        "\n",
        "        out = F.tanh(self.upconv2(out))        # BS x 3 x 32 x 32\n",
        "        \n",
        "        out_size = out.size()\n",
        "        if out_size != torch.Size([batch_size, 3, 32, 32]):\n",
        "            raise ValueError(\"expect {} x 3 x 32 x 32, but get {}\".format(batch_size, out_size))\n",
        "\n",
        "\n",
        "        return out"
      ],
      "execution_count": 0,
      "outputs": []
    },
    {
      "cell_type": "markdown",
      "metadata": {
        "colab_type": "text",
        "id": "oYVbPQ6OuB1w"
      },
      "source": [
        "### CycleGAN training loop"
      ]
    },
    {
      "cell_type": "code",
      "metadata": {
        "colab_type": "code",
        "id": "CFfQjxstuGaA",
        "colab": {}
      },
      "source": [
        "def cyclegan_training_loop(dataloader_X, dataloader_Y, test_dataloader_X, test_dataloader_Y, opts):\n",
        "    \"\"\"Runs the training loop.\n",
        "        * Saves checkpoint every opts.checkpoint_every iterations\n",
        "        * Saves generated samples every opts.sample_every iterations\n",
        "    \"\"\"\n",
        "\n",
        "    # Create generators and discriminators\n",
        "    G_XtoY, G_YtoX, D_X, D_Y = create_model(opts)\n",
        "\n",
        "    g_params = list(G_XtoY.parameters()) + list(G_YtoX.parameters())  # Get generator parameters\n",
        "    d_params = list(D_X.parameters()) + list(D_Y.parameters())  # Get discriminator parameters\n",
        "\n",
        "    # Create optimizers for the generators and discriminators\n",
        "    g_optimizer = optim.Adam(g_params, opts.lr, [opts.beta1, opts.beta2])\n",
        "    d_optimizer = optim.Adam(d_params, opts.lr, [opts.beta1, opts.beta2])\n",
        "\n",
        "    iter_X = iter(dataloader_X)\n",
        "    iter_Y = iter(dataloader_Y)\n",
        "\n",
        "    test_iter_X = iter(test_dataloader_X)\n",
        "    test_iter_Y = iter(test_dataloader_Y)\n",
        "\n",
        "    # Get some fixed data from domains X and Y for sampling. These are images that are held\n",
        "    # constant throughout training, that allow us to inspect the model's performance.\n",
        "    fixed_X = to_var(test_iter_X.next()[0])\n",
        "    fixed_Y = to_var(test_iter_Y.next()[0])\n",
        "\n",
        "    iter_per_epoch = min(len(iter_X), len(iter_Y))\n",
        "\n",
        "    try:\n",
        "        for iteration in range(1, opts.train_iters+1):\n",
        "\n",
        "            # Reset data_iter for each epoch\n",
        "            if iteration % iter_per_epoch == 0:\n",
        "                iter_X = iter(dataloader_X)\n",
        "                iter_Y = iter(dataloader_Y)\n",
        "\n",
        "            images_X, labels_X = iter_X.next()\n",
        "            images_X, labels_X = to_var(images_X), to_var(labels_X).long().squeeze()\n",
        "\n",
        "            images_Y, labels_Y = iter_Y.next()\n",
        "            images_Y, labels_Y = to_var(images_Y), to_var(labels_Y).long().squeeze()\n",
        "\n",
        "\n",
        "            # ============================================\n",
        "            #            TRAIN THE DISCRIMINATORS\n",
        "            # ============================================\n",
        "\n",
        "            #########################################\n",
        "            ##             FILL THIS IN            ##\n",
        "            #########################################\n",
        "\n",
        "            # Train with real images\n",
        "            d_optimizer.zero_grad()\n",
        "\n",
        "            # 1. Compute the discriminator losses on real images\n",
        "            # D_X_loss = ...\n",
        "            # D_Y_loss = ...\n",
        "            D_X_loss = torch.mean((D_X(images_X) - 1)**2)\n",
        "            D_Y_loss = torch.mean((D_Y(images_Y) - 1)**2)\n",
        "\n",
        "            d_real_loss = D_X_loss + D_Y_loss\n",
        "            d_real_loss.backward()\n",
        "            d_optimizer.step()\n",
        "\n",
        "            # Train with fake images\n",
        "            d_optimizer.zero_grad()\n",
        "\n",
        "            # 2. Generate fake images that look like domain X based on real images in domain Y\n",
        "            # fake_X = ...\n",
        "            fake_X = G_YtoX(images_Y)\n",
        "\n",
        "            # 3. Compute the loss for D_X\n",
        "            # D_X_loss = ...\n",
        "            D_X_loss = torch.mean(D_X(fake_X)**2)\n",
        "\n",
        "            # 4. Generate fake images that look like domain Y based on real images in domain X\n",
        "            # fake_Y = ...\n",
        "            fake_Y = G_XtoY(images_X)\n",
        "\n",
        "            # 5. Compute the loss for D_Y\n",
        "            # D_Y_loss = ...\n",
        "            D_Y_loss = torch.mean(D_Y(fake_Y)**2)\n",
        "\n",
        "            d_fake_loss = D_X_loss + D_Y_loss\n",
        "            d_fake_loss.backward()\n",
        "            d_optimizer.step()\n",
        "\n",
        "\n",
        "\n",
        "            # =========================================\n",
        "            #            TRAIN THE GENERATORS\n",
        "            # =========================================\n",
        "\n",
        "\n",
        "            #########################################\n",
        "            ##    FILL THIS IN: Y--X-->Y CYCLE     ##\n",
        "            #########################################\n",
        "            g_optimizer.zero_grad()\n",
        "\n",
        "            # 1. Generate fake images that look like domain X based on real images in domain Y\n",
        "            # fake_X = ...\n",
        "            fake_X = G_YtoX(images_Y)\n",
        "\n",
        "            # 2. Compute the generator loss based on domain X\n",
        "            # g_loss = ...\n",
        "            g_loss = torch.mean((D_X(fake_X) - 1)**2)\n",
        "\n",
        "            reconstructed_Y = G_XtoY(fake_X)\n",
        "            # 3. Compute the cycle consistency loss (the reconstruction loss)\n",
        "            # cycle_consistency_loss = ...\n",
        "            cycle_consistency_loss = torch.mean(torch.sum(torch.abs(images_Y - reconstructed_Y), [1,2,3]))\n",
        "\n",
        "            g_loss += opts.lambda_cycle * cycle_consistency_loss\n",
        "\n",
        "            g_loss.backward()\n",
        "            g_optimizer.step()\n",
        "\n",
        "\n",
        "\n",
        "            #########################################\n",
        "            ##    FILL THIS IN: X--Y-->X CYCLE     ##\n",
        "            #########################################\n",
        "\n",
        "            g_optimizer.zero_grad()\n",
        "\n",
        "            # 1. Generate fake images that look like domain Y based on real images in domain X\n",
        "            # fake_Y = ...\n",
        "            fake_Y = G_XtoY(images_X)\n",
        "\n",
        "            # 2. Compute the generator loss based on domain Y\n",
        "            # g_loss = ...\n",
        "            g_loss = torch.mean((D_Y(fake_Y) - 1)**2)\n",
        "\n",
        "            reconstructed_X = G_YtoX(fake_Y)\n",
        "            # 3. Compute the cycle consistency loss (the reconstruction loss)\n",
        "            # cycle_consistency_loss = ...\n",
        "            cycle_consistency_loss = torch.mean(torch.sum(torch.abs(images_X - reconstructed_X),[1,2,3]))\n",
        "\n",
        "            g_loss += opts.lambda_cycle * cycle_consistency_loss\n",
        "\n",
        "            g_loss.backward()\n",
        "            g_optimizer.step()\n",
        "\n",
        "\n",
        "            # Print the log info\n",
        "            if iteration % opts.log_step == 0:\n",
        "                print('Iteration [{:5d}/{:5d}] | d_real_loss: {:6.4f} | d_Y_loss: {:6.4f} | d_X_loss: {:6.4f} | '\n",
        "                    'd_fake_loss: {:6.4f} | g_loss: {:6.4f}'.format(\n",
        "                      iteration, opts.train_iters, d_real_loss.item(), D_Y_loss.item(),\n",
        "                      D_X_loss.item(), d_fake_loss.item(), g_loss.item()))\n",
        "\n",
        "\n",
        "            # Save the generated samples\n",
        "            if iteration % opts.sample_every == 0:\n",
        "                cyclegan_save_samples(iteration, fixed_Y, fixed_X, G_YtoX, G_XtoY, opts)\n",
        "\n",
        "\n",
        "            # Save the model parameters\n",
        "            if iteration % opts.checkpoint_every == 0:\n",
        "                cyclegan_checkpoint(iteration, G_XtoY, G_YtoX, D_X, D_Y, opts)\n",
        "\n",
        "    except KeyboardInterrupt:\n",
        "        print('Exiting early from training.')\n",
        "        return G_XtoY, G_YtoX, D_X, D_Y\n",
        "\n",
        "    return G_XtoY, G_YtoX, D_X, D_Y\n"
      ],
      "execution_count": 0,
      "outputs": []
    },
    {
      "cell_type": "markdown",
      "metadata": {
        "colab_type": "text",
        "id": "XuNFd6LNo0-o"
      },
      "source": [
        "# Training\n"
      ]
    },
    {
      "cell_type": "markdown",
      "metadata": {
        "colab_type": "text",
        "id": "kiUwiOITHTW4"
      },
      "source": [
        "## Download dataset"
      ]
    },
    {
      "cell_type": "code",
      "metadata": {
        "colab_type": "code",
        "id": "xwcFjsEpHRbI",
        "outputId": "5faa342d-80df-4257-8871-db7323295f74",
        "colab": {
          "base_uri": "https://localhost:8080/",
          "height": 68
        }
      },
      "source": [
        "######################################################################\n",
        "# Download Translation datasets\n",
        "######################################################################\n",
        "data_fpath = get_file(fname='emojis', \n",
        "                         origin='http://www.cs.toronto.edu/~jba/emojis.tar.gz', \n",
        "                         untar=True)"
      ],
      "execution_count": 0,
      "outputs": [
        {
          "output_type": "stream",
          "text": [
            "data/emojis.tar.gz\n",
            "Downloading data from http://www.cs.toronto.edu/~jba/emojis.tar.gz\n",
            "Extracting file.\n"
          ],
          "name": "stdout"
        }
      ]
    },
    {
      "cell_type": "markdown",
      "metadata": {
        "colab_type": "text",
        "id": "hmQmyJDSRFKR"
      },
      "source": [
        "## DCGAN"
      ]
    },
    {
      "cell_type": "code",
      "metadata": {
        "colab_type": "code",
        "id": "0LKaRF1jwhH7",
        "scrolled": true,
        "outputId": "2ac2a3a7-b335-4623-e11e-63ec611cfd7c",
        "colab": {
          "base_uri": "https://localhost:8080/",
          "height": 1000
        }
      },
      "source": [
        "SEED = 10\n",
        "\n",
        "# Set the random seed manually for reproducibility.\n",
        "np.random.seed(SEED)\n",
        "torch.manual_seed(SEED)\n",
        "if torch.cuda.is_available():\n",
        "    torch.cuda.manual_seed(SEED)\n",
        "\n",
        "\n",
        "args = AttrDict()\n",
        "args_dict = {\n",
        "              'image_size':32, \n",
        "              'g_conv_dim':32, \n",
        "              'd_conv_dim':64,\n",
        "              'noise_size':100,\n",
        "              'num_workers': 0,\n",
        "              'train_iters':20000,\n",
        "              'X':'Windows',  # options: 'Windows' / 'Apple'\n",
        "              'Y': None,\n",
        "              'lr':0.0003,\n",
        "              'beta1':0.5,\n",
        "              'beta2':0.999,\n",
        "              'batch_size':32, \n",
        "              'checkpoint_dir': 'results/checkpoints_gan',\n",
        "              'sample_dir': 'results/samples_gan',\n",
        "              'load': None,\n",
        "              'log_step':200,\n",
        "              'sample_every':200,\n",
        "              'checkpoint_every':1000,\n",
        "              'spectral_norm': False,\n",
        "              'gradient_penalty': True,\n",
        "              'd_train_iters': 1\n",
        "}\n",
        "args.update(args_dict)\n",
        "\n",
        "print_opts(args)\n",
        "G, D = train(args)\n",
        "\n",
        "generate_gif(\"results/samples_gan\")"
      ],
      "execution_count": 0,
      "outputs": [
        {
          "output_type": "stream",
          "text": [
            "================================================================================\n",
            "                                      Opts                                      \n",
            "--------------------------------------------------------------------------------\n",
            "                             image_size: 32                                     \n",
            "                             g_conv_dim: 32                                     \n",
            "                             d_conv_dim: 64                                     \n",
            "                             noise_size: 100                                    \n",
            "                            train_iters: 20000                                  \n",
            "                                      X: Windows                                \n",
            "                                     lr: 0.0003                                 \n",
            "                                  beta1: 0.5                                    \n",
            "                                  beta2: 0.999                                  \n",
            "                             batch_size: 32                                     \n",
            "                         checkpoint_dir: results/checkpoints_gan                \n",
            "                             sample_dir: results/samples_gan                    \n",
            "                               log_step: 200                                    \n",
            "                           sample_every: 200                                    \n",
            "                       checkpoint_every: 1000                                   \n",
            "                       gradient_penalty: 1                                      \n",
            "                          d_train_iters: 1                                      \n",
            "================================================================================\n",
            "                 G                     \n",
            "---------------------------------------\n",
            "DCGenerator(\n",
            "  (linear_bn): Sequential(\n",
            "    (0): Upsample(scale_factor=4.0, mode=nearest)\n",
            "    (1): Conv2d(100, 128, kernel_size=(5, 5), stride=(1, 1), padding=(2, 2), bias=False)\n",
            "    (2): BatchNorm2d(128, eps=1e-05, momentum=0.1, affine=True, track_running_stats=True)\n",
            "  )\n",
            "  (upconv1): Sequential(\n",
            "    (0): Upsample(scale_factor=2.0, mode=nearest)\n",
            "    (1): Conv2d(128, 64, kernel_size=(5, 5), stride=(1, 1), padding=(2, 2), bias=False)\n",
            "    (2): BatchNorm2d(64, eps=1e-05, momentum=0.1, affine=True, track_running_stats=True)\n",
            "  )\n",
            "  (upconv2): Sequential(\n",
            "    (0): Upsample(scale_factor=2.0, mode=nearest)\n",
            "    (1): Conv2d(64, 32, kernel_size=(5, 5), stride=(1, 1), padding=(2, 2), bias=False)\n",
            "    (2): BatchNorm2d(32, eps=1e-05, momentum=0.1, affine=True, track_running_stats=True)\n",
            "  )\n",
            "  (upconv3): Sequential(\n",
            "    (0): Upsample(scale_factor=2.0, mode=nearest)\n",
            "    (1): Conv2d(32, 3, kernel_size=(5, 5), stride=(1, 1), padding=(2, 2), bias=False)\n",
            "  )\n",
            ")\n",
            "---------------------------------------\n",
            "                  D                    \n",
            "---------------------------------------\n",
            "DCDiscriminator(\n",
            "  (conv1): Sequential(\n",
            "    (0): Conv2d(3, 64, kernel_size=(5, 5), stride=(2, 2), padding=(2, 2), bias=False)\n",
            "    (1): BatchNorm2d(64, eps=1e-05, momentum=0.1, affine=True, track_running_stats=True)\n",
            "  )\n",
            "  (conv2): Sequential(\n",
            "    (0): Conv2d(64, 128, kernel_size=(5, 5), stride=(2, 2), padding=(2, 2), bias=False)\n",
            "    (1): BatchNorm2d(128, eps=1e-05, momentum=0.1, affine=True, track_running_stats=True)\n",
            "  )\n",
            "  (conv3): Sequential(\n",
            "    (0): Conv2d(128, 256, kernel_size=(5, 5), stride=(2, 2), padding=(2, 2), bias=False)\n",
            "    (1): BatchNorm2d(256, eps=1e-05, momentum=0.1, affine=True, track_running_stats=True)\n",
            "  )\n",
            "  (conv4): Sequential(\n",
            "    (0): Conv2d(256, 1, kernel_size=(5, 5), stride=(2, 2), padding=(1, 1), bias=False)\n",
            "  )\n",
            ")\n",
            "---------------------------------------\n",
            "Models moved to GPU.\n"
          ],
          "name": "stdout"
        },
        {
          "output_type": "stream",
          "text": [
            "/usr/local/lib/python3.6/dist-packages/torchvision/transforms/transforms.py:220: UserWarning: The use of the transforms.Scale transform is deprecated, please use transforms.Resize instead.\n",
            "  \"please use transforms.Resize instead.\")\n",
            "/usr/local/lib/python3.6/dist-packages/PIL/Image.py:932: UserWarning: Palette images with Transparency expressed in bytes should be converted to RGBA images\n",
            "  \"Palette images with Transparency expressed in bytes should be \"\n",
            "/usr/local/lib/python3.6/dist-packages/torch/nn/functional.py:1340: UserWarning: nn.functional.tanh is deprecated. Use torch.tanh instead.\n",
            "  warnings.warn(\"nn.functional.tanh is deprecated. Use torch.tanh instead.\")\n",
            "WARNING:root:Lossy conversion from float32 to uint8. Range [-0.9974431991577148, 0.999818742275238]. Convert image to uint8 prior to saving to suppress this warning.\n"
          ],
          "name": "stderr"
        },
        {
          "output_type": "stream",
          "text": [
            "Iteration [ 200/20000] | D_real_loss: 0.0528 | D_fake_loss: 0.2219 | G_loss: 0.5178\n",
            "Saved results/samples_gan/sample-000200.png\n"
          ],
          "name": "stdout"
        },
        {
          "output_type": "stream",
          "text": [
            "WARNING:root:Lossy conversion from float32 to uint8. Range [-0.9949883818626404, 0.9999935030937195]. Convert image to uint8 prior to saving to suppress this warning.\n"
          ],
          "name": "stderr"
        },
        {
          "output_type": "stream",
          "text": [
            "Iteration [ 400/20000] | D_real_loss: 0.1764 | D_fake_loss: 0.0760 | G_loss: 0.1362\n",
            "Saved results/samples_gan/sample-000400.png\n"
          ],
          "name": "stdout"
        },
        {
          "output_type": "stream",
          "text": [
            "WARNING:root:Lossy conversion from float32 to uint8. Range [-0.9981653690338135, 0.99995356798172]. Convert image to uint8 prior to saving to suppress this warning.\n"
          ],
          "name": "stderr"
        },
        {
          "output_type": "stream",
          "text": [
            "Iteration [ 600/20000] | D_real_loss: 0.1676 | D_fake_loss: 0.0802 | G_loss: 0.2035\n",
            "Saved results/samples_gan/sample-000600.png\n"
          ],
          "name": "stdout"
        },
        {
          "output_type": "stream",
          "text": [
            "WARNING:root:Lossy conversion from float32 to uint8. Range [-0.998724639415741, 0.9997831583023071]. Convert image to uint8 prior to saving to suppress this warning.\n"
          ],
          "name": "stderr"
        },
        {
          "output_type": "stream",
          "text": [
            "Iteration [ 800/20000] | D_real_loss: 0.1801 | D_fake_loss: 0.0739 | G_loss: 0.1832\n",
            "Saved results/samples_gan/sample-000800.png\n"
          ],
          "name": "stdout"
        },
        {
          "output_type": "stream",
          "text": [
            "WARNING:root:Lossy conversion from float32 to uint8. Range [-0.9996376633644104, 0.9999172687530518]. Convert image to uint8 prior to saving to suppress this warning.\n"
          ],
          "name": "stderr"
        },
        {
          "output_type": "stream",
          "text": [
            "Iteration [1000/20000] | D_real_loss: 0.2007 | D_fake_loss: 0.0677 | G_loss: 0.1310\n",
            "Saved results/samples_gan/sample-001000.png\n"
          ],
          "name": "stdout"
        },
        {
          "output_type": "stream",
          "text": [
            "WARNING:root:Lossy conversion from float32 to uint8. Range [-0.9974962472915649, 0.9989243149757385]. Convert image to uint8 prior to saving to suppress this warning.\n"
          ],
          "name": "stderr"
        },
        {
          "output_type": "stream",
          "text": [
            "Iteration [1200/20000] | D_real_loss: 0.1576 | D_fake_loss: 0.0918 | G_loss: 0.1954\n",
            "Saved results/samples_gan/sample-001200.png\n"
          ],
          "name": "stdout"
        },
        {
          "output_type": "stream",
          "text": [
            "WARNING:root:Lossy conversion from float32 to uint8. Range [-0.9967008233070374, 0.9998433589935303]. Convert image to uint8 prior to saving to suppress this warning.\n"
          ],
          "name": "stderr"
        },
        {
          "output_type": "stream",
          "text": [
            "Iteration [1400/20000] | D_real_loss: 0.1057 | D_fake_loss: 0.1449 | G_loss: 0.3557\n",
            "Saved results/samples_gan/sample-001400.png\n"
          ],
          "name": "stdout"
        },
        {
          "output_type": "stream",
          "text": [
            "WARNING:root:Lossy conversion from float32 to uint8. Range [-0.9966592788696289, 0.9999776482582092]. Convert image to uint8 prior to saving to suppress this warning.\n"
          ],
          "name": "stderr"
        },
        {
          "output_type": "stream",
          "text": [
            "Iteration [1600/20000] | D_real_loss: 0.1979 | D_fake_loss: 0.0665 | G_loss: 0.2034\n",
            "Saved results/samples_gan/sample-001600.png\n"
          ],
          "name": "stdout"
        },
        {
          "output_type": "stream",
          "text": [
            "WARNING:root:Lossy conversion from float32 to uint8. Range [-0.9986575841903687, 0.9998548626899719]. Convert image to uint8 prior to saving to suppress this warning.\n"
          ],
          "name": "stderr"
        },
        {
          "output_type": "stream",
          "text": [
            "Iteration [1800/20000] | D_real_loss: 0.1699 | D_fake_loss: 0.0866 | G_loss: 0.1669\n",
            "Saved results/samples_gan/sample-001800.png\n"
          ],
          "name": "stdout"
        },
        {
          "output_type": "stream",
          "text": [
            "WARNING:root:Lossy conversion from float32 to uint8. Range [-0.996625542640686, 0.9997722506523132]. Convert image to uint8 prior to saving to suppress this warning.\n"
          ],
          "name": "stderr"
        },
        {
          "output_type": "stream",
          "text": [
            "Iteration [2000/20000] | D_real_loss: 0.0822 | D_fake_loss: 0.1737 | G_loss: 0.3510\n",
            "Saved results/samples_gan/sample-002000.png\n"
          ],
          "name": "stdout"
        },
        {
          "output_type": "stream",
          "text": [
            "WARNING:root:Lossy conversion from float32 to uint8. Range [-0.9983962178230286, 0.9999186396598816]. Convert image to uint8 prior to saving to suppress this warning.\n"
          ],
          "name": "stderr"
        },
        {
          "output_type": "stream",
          "text": [
            "Iteration [2200/20000] | D_real_loss: 0.1564 | D_fake_loss: 0.0954 | G_loss: 0.2463\n",
            "Saved results/samples_gan/sample-002200.png\n"
          ],
          "name": "stdout"
        },
        {
          "output_type": "stream",
          "text": [
            "WARNING:root:Lossy conversion from float32 to uint8. Range [-0.9980645179748535, 0.9998824596405029]. Convert image to uint8 prior to saving to suppress this warning.\n"
          ],
          "name": "stderr"
        },
        {
          "output_type": "stream",
          "text": [
            "Iteration [2400/20000] | D_real_loss: 0.1469 | D_fake_loss: 0.1029 | G_loss: 0.2091\n",
            "Saved results/samples_gan/sample-002400.png\n"
          ],
          "name": "stdout"
        },
        {
          "output_type": "stream",
          "text": [
            "WARNING:root:Lossy conversion from float32 to uint8. Range [-0.9979802966117859, 0.9997962117195129]. Convert image to uint8 prior to saving to suppress this warning.\n"
          ],
          "name": "stderr"
        },
        {
          "output_type": "stream",
          "text": [
            "Iteration [2600/20000] | D_real_loss: 0.0951 | D_fake_loss: 0.1573 | G_loss: 0.3110\n",
            "Saved results/samples_gan/sample-002600.png\n"
          ],
          "name": "stdout"
        },
        {
          "output_type": "stream",
          "text": [
            "WARNING:root:Lossy conversion from float32 to uint8. Range [-0.998603105545044, 0.9992406964302063]. Convert image to uint8 prior to saving to suppress this warning.\n"
          ],
          "name": "stderr"
        },
        {
          "output_type": "stream",
          "text": [
            "Iteration [2800/20000] | D_real_loss: 0.1059 | D_fake_loss: 0.1434 | G_loss: 0.2984\n",
            "Saved results/samples_gan/sample-002800.png\n"
          ],
          "name": "stdout"
        },
        {
          "output_type": "stream",
          "text": [
            "WARNING:root:Lossy conversion from float32 to uint8. Range [-0.998852550983429, 0.9988061785697937]. Convert image to uint8 prior to saving to suppress this warning.\n"
          ],
          "name": "stderr"
        },
        {
          "output_type": "stream",
          "text": [
            "Iteration [3000/20000] | D_real_loss: 0.1105 | D_fake_loss: 0.1393 | G_loss: 0.2664\n",
            "Saved results/samples_gan/sample-003000.png\n"
          ],
          "name": "stdout"
        },
        {
          "output_type": "stream",
          "text": [
            "WARNING:root:Lossy conversion from float32 to uint8. Range [-0.9985545873641968, 0.9993821978569031]. Convert image to uint8 prior to saving to suppress this warning.\n"
          ],
          "name": "stderr"
        },
        {
          "output_type": "stream",
          "text": [
            "Iteration [3200/20000] | D_real_loss: 0.1595 | D_fake_loss: 0.0940 | G_loss: 0.1865\n",
            "Saved results/samples_gan/sample-003200.png\n"
          ],
          "name": "stdout"
        },
        {
          "output_type": "stream",
          "text": [
            "WARNING:root:Lossy conversion from float32 to uint8. Range [-0.9973445534706116, 0.9994791150093079]. Convert image to uint8 prior to saving to suppress this warning.\n"
          ],
          "name": "stderr"
        },
        {
          "output_type": "stream",
          "text": [
            "Iteration [3400/20000] | D_real_loss: 0.1580 | D_fake_loss: 0.0950 | G_loss: 0.1921\n",
            "Saved results/samples_gan/sample-003400.png\n"
          ],
          "name": "stdout"
        },
        {
          "output_type": "stream",
          "text": [
            "WARNING:root:Lossy conversion from float32 to uint8. Range [-0.9977216720581055, 0.9989356994628906]. Convert image to uint8 prior to saving to suppress this warning.\n"
          ],
          "name": "stderr"
        },
        {
          "output_type": "stream",
          "text": [
            "Iteration [3600/20000] | D_real_loss: 0.1310 | D_fake_loss: 0.1187 | G_loss: 0.2400\n",
            "Saved results/samples_gan/sample-003600.png\n"
          ],
          "name": "stdout"
        },
        {
          "output_type": "stream",
          "text": [
            "WARNING:root:Lossy conversion from float32 to uint8. Range [-0.9960232377052307, 0.9985156655311584]. Convert image to uint8 prior to saving to suppress this warning.\n"
          ],
          "name": "stderr"
        },
        {
          "output_type": "stream",
          "text": [
            "Iteration [3800/20000] | D_real_loss: 0.1523 | D_fake_loss: 0.1000 | G_loss: 0.1958\n",
            "Saved results/samples_gan/sample-003800.png\n"
          ],
          "name": "stdout"
        },
        {
          "output_type": "stream",
          "text": [
            "WARNING:root:Lossy conversion from float32 to uint8. Range [-0.9961283206939697, 0.9991406202316284]. Convert image to uint8 prior to saving to suppress this warning.\n"
          ],
          "name": "stderr"
        },
        {
          "output_type": "stream",
          "text": [
            "Iteration [4000/20000] | D_real_loss: 0.1498 | D_fake_loss: 0.1020 | G_loss: 0.2115\n",
            "Saved results/samples_gan/sample-004000.png\n"
          ],
          "name": "stdout"
        },
        {
          "output_type": "stream",
          "text": [
            "WARNING:root:Lossy conversion from float32 to uint8. Range [-0.9978508949279785, 0.9992967247962952]. Convert image to uint8 prior to saving to suppress this warning.\n"
          ],
          "name": "stderr"
        },
        {
          "output_type": "stream",
          "text": [
            "Iteration [4200/20000] | D_real_loss: 0.0937 | D_fake_loss: 0.1604 | G_loss: 0.3219\n",
            "Saved results/samples_gan/sample-004200.png\n"
          ],
          "name": "stdout"
        },
        {
          "output_type": "stream",
          "text": [
            "WARNING:root:Lossy conversion from float32 to uint8. Range [-0.9958864450454712, 0.9992274045944214]. Convert image to uint8 prior to saving to suppress this warning.\n"
          ],
          "name": "stderr"
        },
        {
          "output_type": "stream",
          "text": [
            "Iteration [4400/20000] | D_real_loss: 0.1288 | D_fake_loss: 0.1210 | G_loss: 0.2425\n",
            "Saved results/samples_gan/sample-004400.png\n"
          ],
          "name": "stdout"
        },
        {
          "output_type": "stream",
          "text": [
            "WARNING:root:Lossy conversion from float32 to uint8. Range [-0.9897361993789673, 0.9999996423721313]. Convert image to uint8 prior to saving to suppress this warning.\n"
          ],
          "name": "stderr"
        },
        {
          "output_type": "stream",
          "text": [
            "Iteration [4600/20000] | D_real_loss: 0.0291 | D_fake_loss: 0.2802 | G_loss: 0.7273\n",
            "Saved results/samples_gan/sample-004600.png\n"
          ],
          "name": "stdout"
        },
        {
          "output_type": "stream",
          "text": [
            "WARNING:root:Lossy conversion from float32 to uint8. Range [-0.9987542033195496, 0.9999994039535522]. Convert image to uint8 prior to saving to suppress this warning.\n"
          ],
          "name": "stderr"
        },
        {
          "output_type": "stream",
          "text": [
            "Iteration [4800/20000] | D_real_loss: 0.1325 | D_fake_loss: 0.1174 | G_loss: 0.2343\n",
            "Saved results/samples_gan/sample-004800.png\n"
          ],
          "name": "stdout"
        },
        {
          "output_type": "stream",
          "text": [
            "WARNING:root:Lossy conversion from float32 to uint8. Range [-0.9985349774360657, 0.9999955296516418]. Convert image to uint8 prior to saving to suppress this warning.\n"
          ],
          "name": "stderr"
        },
        {
          "output_type": "stream",
          "text": [
            "Iteration [5000/20000] | D_real_loss: 0.1216 | D_fake_loss: 0.1283 | G_loss: 0.2571\n",
            "Saved results/samples_gan/sample-005000.png\n"
          ],
          "name": "stdout"
        },
        {
          "output_type": "stream",
          "text": [
            "WARNING:root:Lossy conversion from float32 to uint8. Range [-0.9982641339302063, 0.9999856948852539]. Convert image to uint8 prior to saving to suppress this warning.\n"
          ],
          "name": "stderr"
        },
        {
          "output_type": "stream",
          "text": [
            "Iteration [5200/20000] | D_real_loss: 0.1250 | D_fake_loss: 0.1247 | G_loss: 0.2502\n",
            "Saved results/samples_gan/sample-005200.png\n"
          ],
          "name": "stdout"
        },
        {
          "output_type": "stream",
          "text": [
            "WARNING:root:Lossy conversion from float32 to uint8. Range [-0.9971480369567871, 0.9999768733978271]. Convert image to uint8 prior to saving to suppress this warning.\n"
          ],
          "name": "stderr"
        },
        {
          "output_type": "stream",
          "text": [
            "Iteration [5400/20000] | D_real_loss: 0.1533 | D_fake_loss: 0.0995 | G_loss: 0.1952\n",
            "Saved results/samples_gan/sample-005400.png\n"
          ],
          "name": "stdout"
        },
        {
          "output_type": "stream",
          "text": [
            "WARNING:root:Lossy conversion from float32 to uint8. Range [-1.0, 0.9999987483024597]. Convert image to uint8 prior to saving to suppress this warning.\n"
          ],
          "name": "stderr"
        },
        {
          "output_type": "stream",
          "text": [
            "Iteration [5600/20000] | D_real_loss: 0.0960 | D_fake_loss: 0.1122 | G_loss: 0.3128\n",
            "Saved results/samples_gan/sample-005600.png\n"
          ],
          "name": "stdout"
        },
        {
          "output_type": "stream",
          "text": [
            "WARNING:root:Lossy conversion from float32 to uint8. Range [-1.0, 0.9999991059303284]. Convert image to uint8 prior to saving to suppress this warning.\n"
          ],
          "name": "stderr"
        },
        {
          "output_type": "stream",
          "text": [
            "Iteration [5800/20000] | D_real_loss: 0.1268 | D_fake_loss: 0.1194 | G_loss: 0.2436\n",
            "Saved results/samples_gan/sample-005800.png\n"
          ],
          "name": "stdout"
        },
        {
          "output_type": "stream",
          "text": [
            "WARNING:root:Lossy conversion from float32 to uint8. Range [-0.9999998211860657, 0.9998708367347717]. Convert image to uint8 prior to saving to suppress this warning.\n"
          ],
          "name": "stderr"
        },
        {
          "output_type": "stream",
          "text": [
            "Iteration [6000/20000] | D_real_loss: 0.1249 | D_fake_loss: 0.1239 | G_loss: 0.2450\n",
            "Saved results/samples_gan/sample-006000.png\n"
          ],
          "name": "stdout"
        },
        {
          "output_type": "stream",
          "text": [
            "WARNING:root:Lossy conversion from float32 to uint8. Range [-0.9999942779541016, 0.999778687953949]. Convert image to uint8 prior to saving to suppress this warning.\n"
          ],
          "name": "stderr"
        },
        {
          "output_type": "stream",
          "text": [
            "Iteration [6200/20000] | D_real_loss: 0.1150 | D_fake_loss: 0.1343 | G_loss: 0.2684\n",
            "Saved results/samples_gan/sample-006200.png\n"
          ],
          "name": "stdout"
        },
        {
          "output_type": "stream",
          "text": [
            "WARNING:root:Lossy conversion from float32 to uint8. Range [-0.9999833703041077, 0.999483585357666]. Convert image to uint8 prior to saving to suppress this warning.\n"
          ],
          "name": "stderr"
        },
        {
          "output_type": "stream",
          "text": [
            "Iteration [6400/20000] | D_real_loss: 0.1228 | D_fake_loss: 0.1267 | G_loss: 0.2533\n",
            "Saved results/samples_gan/sample-006400.png\n"
          ],
          "name": "stdout"
        },
        {
          "output_type": "stream",
          "text": [
            "WARNING:root:Lossy conversion from float32 to uint8. Range [-0.9995436072349548, 0.9992645382881165]. Convert image to uint8 prior to saving to suppress this warning.\n"
          ],
          "name": "stderr"
        },
        {
          "output_type": "stream",
          "text": [
            "Iteration [6600/20000] | D_real_loss: 0.1282 | D_fake_loss: 0.1214 | G_loss: 0.2426\n",
            "Saved results/samples_gan/sample-006600.png\n"
          ],
          "name": "stdout"
        },
        {
          "output_type": "stream",
          "text": [
            "WARNING:root:Lossy conversion from float32 to uint8. Range [-0.9985656142234802, 0.9992387294769287]. Convert image to uint8 prior to saving to suppress this warning.\n"
          ],
          "name": "stderr"
        },
        {
          "output_type": "stream",
          "text": [
            "Iteration [6800/20000] | D_real_loss: 0.1069 | D_fake_loss: 0.1441 | G_loss: 0.2923\n",
            "Saved results/samples_gan/sample-006800.png\n"
          ],
          "name": "stdout"
        },
        {
          "output_type": "stream",
          "text": [
            "WARNING:root:Lossy conversion from float32 to uint8. Range [-0.9984622597694397, 0.9997903108596802]. Convert image to uint8 prior to saving to suppress this warning.\n"
          ],
          "name": "stderr"
        },
        {
          "output_type": "stream",
          "text": [
            "Iteration [7000/20000] | D_real_loss: 0.1174 | D_fake_loss: 0.1325 | G_loss: 0.2664\n",
            "Saved results/samples_gan/sample-007000.png\n"
          ],
          "name": "stdout"
        },
        {
          "output_type": "stream",
          "text": [
            "WARNING:root:Lossy conversion from float32 to uint8. Range [-0.9993621110916138, 0.9995331168174744]. Convert image to uint8 prior to saving to suppress this warning.\n"
          ],
          "name": "stderr"
        },
        {
          "output_type": "stream",
          "text": [
            "Iteration [7200/20000] | D_real_loss: 0.1068 | D_fake_loss: 0.1443 | G_loss: 0.2859\n",
            "Saved results/samples_gan/sample-007200.png\n"
          ],
          "name": "stdout"
        },
        {
          "output_type": "stream",
          "text": [
            "WARNING:root:Lossy conversion from float32 to uint8. Range [-0.9976499080657959, 0.9997828006744385]. Convert image to uint8 prior to saving to suppress this warning.\n"
          ],
          "name": "stderr"
        },
        {
          "output_type": "stream",
          "text": [
            "Iteration [7400/20000] | D_real_loss: 0.1301 | D_fake_loss: 0.1197 | G_loss: 0.2406\n",
            "Saved results/samples_gan/sample-007400.png\n"
          ],
          "name": "stdout"
        },
        {
          "output_type": "stream",
          "text": [
            "WARNING:root:Lossy conversion from float32 to uint8. Range [-0.9982454776763916, 0.9998502135276794]. Convert image to uint8 prior to saving to suppress this warning.\n"
          ],
          "name": "stderr"
        },
        {
          "output_type": "stream",
          "text": [
            "Iteration [7600/20000] | D_real_loss: 0.1358 | D_fake_loss: 0.1144 | G_loss: 0.2301\n",
            "Saved results/samples_gan/sample-007600.png\n"
          ],
          "name": "stdout"
        },
        {
          "output_type": "stream",
          "text": [
            "WARNING:root:Lossy conversion from float32 to uint8. Range [-0.9995130300521851, 0.9995786547660828]. Convert image to uint8 prior to saving to suppress this warning.\n"
          ],
          "name": "stderr"
        },
        {
          "output_type": "stream",
          "text": [
            "Iteration [7800/20000] | D_real_loss: 0.1155 | D_fake_loss: 0.1345 | G_loss: 0.2697\n",
            "Saved results/samples_gan/sample-007800.png\n"
          ],
          "name": "stdout"
        },
        {
          "output_type": "stream",
          "text": [
            "WARNING:root:Lossy conversion from float32 to uint8. Range [-0.9978784322738647, 0.9998758435249329]. Convert image to uint8 prior to saving to suppress this warning.\n"
          ],
          "name": "stderr"
        },
        {
          "output_type": "stream",
          "text": [
            "Iteration [8000/20000] | D_real_loss: 0.1224 | D_fake_loss: 0.1274 | G_loss: 0.2562\n",
            "Saved results/samples_gan/sample-008000.png\n"
          ],
          "name": "stdout"
        },
        {
          "output_type": "stream",
          "text": [
            "WARNING:root:Lossy conversion from float32 to uint8. Range [-0.9990211725234985, 0.9998509287834167]. Convert image to uint8 prior to saving to suppress this warning.\n"
          ],
          "name": "stderr"
        },
        {
          "output_type": "stream",
          "text": [
            "Iteration [8200/20000] | D_real_loss: 0.1178 | D_fake_loss: 0.1323 | G_loss: 0.2629\n",
            "Saved results/samples_gan/sample-008200.png\n"
          ],
          "name": "stdout"
        },
        {
          "output_type": "stream",
          "text": [
            "WARNING:root:Lossy conversion from float32 to uint8. Range [-0.9983373284339905, 0.9997058510780334]. Convert image to uint8 prior to saving to suppress this warning.\n"
          ],
          "name": "stderr"
        },
        {
          "output_type": "stream",
          "text": [
            "Iteration [8400/20000] | D_real_loss: 0.1372 | D_fake_loss: 0.1133 | G_loss: 0.2286\n",
            "Saved results/samples_gan/sample-008400.png\n"
          ],
          "name": "stdout"
        },
        {
          "output_type": "stream",
          "text": [
            "WARNING:root:Lossy conversion from float32 to uint8. Range [-1.0, 1.0]. Convert image to uint8 prior to saving to suppress this warning.\n"
          ],
          "name": "stderr"
        },
        {
          "output_type": "stream",
          "text": [
            "Iteration [8600/20000] | D_real_loss: 0.1251 | D_fake_loss: 0.1244 | G_loss: 0.2462\n",
            "Saved results/samples_gan/sample-008600.png\n"
          ],
          "name": "stdout"
        },
        {
          "output_type": "stream",
          "text": [
            "WARNING:root:Lossy conversion from float32 to uint8. Range [-0.9999606609344482, 0.999996542930603]. Convert image to uint8 prior to saving to suppress this warning.\n"
          ],
          "name": "stderr"
        },
        {
          "output_type": "stream",
          "text": [
            "Iteration [8800/20000] | D_real_loss: 0.1248 | D_fake_loss: 0.1250 | G_loss: 0.2517\n",
            "Saved results/samples_gan/sample-008800.png\n"
          ],
          "name": "stdout"
        },
        {
          "output_type": "stream",
          "text": [
            "WARNING:root:Lossy conversion from float32 to uint8. Range [-0.9996225237846375, 0.9999898076057434]. Convert image to uint8 prior to saving to suppress this warning.\n"
          ],
          "name": "stderr"
        },
        {
          "output_type": "stream",
          "text": [
            "Iteration [9000/20000] | D_real_loss: 0.1320 | D_fake_loss: 0.1181 | G_loss: 0.2347\n",
            "Saved results/samples_gan/sample-009000.png\n"
          ],
          "name": "stdout"
        },
        {
          "output_type": "stream",
          "text": [
            "WARNING:root:Lossy conversion from float32 to uint8. Range [-0.9989959001541138, 0.9999985098838806]. Convert image to uint8 prior to saving to suppress this warning.\n"
          ],
          "name": "stderr"
        },
        {
          "output_type": "stream",
          "text": [
            "Iteration [9200/20000] | D_real_loss: 0.1273 | D_fake_loss: 0.1226 | G_loss: 0.2455\n",
            "Saved results/samples_gan/sample-009200.png\n"
          ],
          "name": "stdout"
        },
        {
          "output_type": "stream",
          "text": [
            "WARNING:root:Lossy conversion from float32 to uint8. Range [-0.9991922378540039, 0.999993085861206]. Convert image to uint8 prior to saving to suppress this warning.\n"
          ],
          "name": "stderr"
        },
        {
          "output_type": "stream",
          "text": [
            "Iteration [9400/20000] | D_real_loss: 0.1281 | D_fake_loss: 0.1218 | G_loss: 0.2447\n",
            "Saved results/samples_gan/sample-009400.png\n"
          ],
          "name": "stdout"
        },
        {
          "output_type": "stream",
          "text": [
            "WARNING:root:Lossy conversion from float32 to uint8. Range [-0.99888014793396, 0.9999910593032837]. Convert image to uint8 prior to saving to suppress this warning.\n"
          ],
          "name": "stderr"
        },
        {
          "output_type": "stream",
          "text": [
            "Iteration [9600/20000] | D_real_loss: 0.1288 | D_fake_loss: 0.1212 | G_loss: 0.2437\n",
            "Saved results/samples_gan/sample-009600.png\n"
          ],
          "name": "stdout"
        },
        {
          "output_type": "stream",
          "text": [
            "WARNING:root:Lossy conversion from float32 to uint8. Range [-0.9999898076057434, 0.9999945163726807]. Convert image to uint8 prior to saving to suppress this warning.\n"
          ],
          "name": "stderr"
        },
        {
          "output_type": "stream",
          "text": [
            "Iteration [9800/20000] | D_real_loss: 0.1245 | D_fake_loss: 0.1254 | G_loss: 0.2508\n",
            "Saved results/samples_gan/sample-009800.png\n"
          ],
          "name": "stdout"
        },
        {
          "output_type": "stream",
          "text": [
            "WARNING:root:Lossy conversion from float32 to uint8. Range [-0.9992559552192688, 0.9998624324798584]. Convert image to uint8 prior to saving to suppress this warning.\n"
          ],
          "name": "stderr"
        },
        {
          "output_type": "stream",
          "text": [
            "Iteration [10000/20000] | D_real_loss: 0.1269 | D_fake_loss: 0.1231 | G_loss: 0.2474\n",
            "Saved results/samples_gan/sample-010000.png\n"
          ],
          "name": "stdout"
        },
        {
          "output_type": "stream",
          "text": [
            "WARNING:root:Lossy conversion from float32 to uint8. Range [-0.9991175532341003, 0.9997540712356567]. Convert image to uint8 prior to saving to suppress this warning.\n"
          ],
          "name": "stderr"
        },
        {
          "output_type": "stream",
          "text": [
            "Iteration [10200/20000] | D_real_loss: 0.1246 | D_fake_loss: 0.1253 | G_loss: 0.2521\n",
            "Saved results/samples_gan/sample-010200.png\n"
          ],
          "name": "stdout"
        },
        {
          "output_type": "stream",
          "text": [
            "WARNING:root:Lossy conversion from float32 to uint8. Range [-0.9999640583992004, 0.9999999403953552]. Convert image to uint8 prior to saving to suppress this warning.\n"
          ],
          "name": "stderr"
        },
        {
          "output_type": "stream",
          "text": [
            "Iteration [10400/20000] | D_real_loss: 0.1257 | D_fake_loss: 0.1242 | G_loss: 0.2492\n",
            "Saved results/samples_gan/sample-010400.png\n"
          ],
          "name": "stdout"
        },
        {
          "output_type": "stream",
          "text": [
            "WARNING:root:Lossy conversion from float32 to uint8. Range [-0.9999240636825562, 0.9999997019767761]. Convert image to uint8 prior to saving to suppress this warning.\n"
          ],
          "name": "stderr"
        },
        {
          "output_type": "stream",
          "text": [
            "Iteration [10600/20000] | D_real_loss: 0.1226 | D_fake_loss: 0.1273 | G_loss: 0.2539\n",
            "Saved results/samples_gan/sample-010600.png\n"
          ],
          "name": "stdout"
        },
        {
          "output_type": "stream",
          "text": [
            "WARNING:root:Lossy conversion from float32 to uint8. Range [-0.9999240636825562, 0.9999990463256836]. Convert image to uint8 prior to saving to suppress this warning.\n"
          ],
          "name": "stderr"
        },
        {
          "output_type": "stream",
          "text": [
            "Iteration [10800/20000] | D_real_loss: 0.1266 | D_fake_loss: 0.1234 | G_loss: 0.2471\n",
            "Saved results/samples_gan/sample-010800.png\n"
          ],
          "name": "stdout"
        },
        {
          "output_type": "stream",
          "text": [
            "WARNING:root:Lossy conversion from float32 to uint8. Range [-0.9998601078987122, 0.999998152256012]. Convert image to uint8 prior to saving to suppress this warning.\n"
          ],
          "name": "stderr"
        },
        {
          "output_type": "stream",
          "text": [
            "Iteration [11000/20000] | D_real_loss: 0.1277 | D_fake_loss: 0.1223 | G_loss: 0.2448\n",
            "Saved results/samples_gan/sample-011000.png\n"
          ],
          "name": "stdout"
        },
        {
          "output_type": "stream",
          "text": [
            "WARNING:root:Lossy conversion from float32 to uint8. Range [-1.0, 1.0]. Convert image to uint8 prior to saving to suppress this warning.\n"
          ],
          "name": "stderr"
        },
        {
          "output_type": "stream",
          "text": [
            "Iteration [11200/20000] | D_real_loss: 0.1226 | D_fake_loss: 0.1269 | G_loss: 0.2529\n",
            "Saved results/samples_gan/sample-011200.png\n"
          ],
          "name": "stdout"
        },
        {
          "output_type": "stream",
          "text": [
            "WARNING:root:Lossy conversion from float32 to uint8. Range [-0.9999999403953552, 0.9999998211860657]. Convert image to uint8 prior to saving to suppress this warning.\n"
          ],
          "name": "stderr"
        },
        {
          "output_type": "stream",
          "text": [
            "Iteration [11400/20000] | D_real_loss: 0.1241 | D_fake_loss: 0.1258 | G_loss: 0.2529\n",
            "Saved results/samples_gan/sample-011400.png\n"
          ],
          "name": "stdout"
        },
        {
          "output_type": "stream",
          "text": [
            "WARNING:root:Lossy conversion from float32 to uint8. Range [-1.0, 0.9999997019767761]. Convert image to uint8 prior to saving to suppress this warning.\n"
          ],
          "name": "stderr"
        },
        {
          "output_type": "stream",
          "text": [
            "Iteration [11600/20000] | D_real_loss: 0.1244 | D_fake_loss: 0.1255 | G_loss: 0.2500\n",
            "Saved results/samples_gan/sample-011600.png\n"
          ],
          "name": "stdout"
        },
        {
          "output_type": "stream",
          "text": [
            "WARNING:root:Lossy conversion from float32 to uint8. Range [-0.9999998807907104, 0.999999463558197]. Convert image to uint8 prior to saving to suppress this warning.\n"
          ],
          "name": "stderr"
        },
        {
          "output_type": "stream",
          "text": [
            "Iteration [11800/20000] | D_real_loss: 0.1245 | D_fake_loss: 0.1254 | G_loss: 0.2505\n",
            "Saved results/samples_gan/sample-011800.png\n"
          ],
          "name": "stdout"
        },
        {
          "output_type": "stream",
          "text": [
            "WARNING:root:Lossy conversion from float32 to uint8. Range [-0.9999998807907104, 0.999998152256012]. Convert image to uint8 prior to saving to suppress this warning.\n"
          ],
          "name": "stderr"
        },
        {
          "output_type": "stream",
          "text": [
            "Iteration [12000/20000] | D_real_loss: 0.1235 | D_fake_loss: 0.1265 | G_loss: 0.2518\n",
            "Saved results/samples_gan/sample-012000.png\n"
          ],
          "name": "stdout"
        },
        {
          "output_type": "stream",
          "text": [
            "WARNING:root:Lossy conversion from float32 to uint8. Range [-0.9999999403953552, 0.9999980330467224]. Convert image to uint8 prior to saving to suppress this warning.\n"
          ],
          "name": "stderr"
        },
        {
          "output_type": "stream",
          "text": [
            "Iteration [12200/20000] | D_real_loss: 0.1240 | D_fake_loss: 0.1260 | G_loss: 0.2502\n",
            "Saved results/samples_gan/sample-012200.png\n"
          ],
          "name": "stdout"
        },
        {
          "output_type": "stream",
          "text": [
            "WARNING:root:Lossy conversion from float32 to uint8. Range [-0.9999998807907104, 0.9999977946281433]. Convert image to uint8 prior to saving to suppress this warning.\n"
          ],
          "name": "stderr"
        },
        {
          "output_type": "stream",
          "text": [
            "Iteration [12400/20000] | D_real_loss: 0.1204 | D_fake_loss: 0.1297 | G_loss: 0.2598\n",
            "Saved results/samples_gan/sample-012400.png\n"
          ],
          "name": "stdout"
        },
        {
          "output_type": "stream",
          "text": [
            "WARNING:root:Lossy conversion from float32 to uint8. Range [-1.0, 0.9999998807907104]. Convert image to uint8 prior to saving to suppress this warning.\n"
          ],
          "name": "stderr"
        },
        {
          "output_type": "stream",
          "text": [
            "Iteration [12600/20000] | D_real_loss: 0.1253 | D_fake_loss: 0.1247 | G_loss: 0.2504\n",
            "Saved results/samples_gan/sample-012600.png\n"
          ],
          "name": "stdout"
        },
        {
          "output_type": "stream",
          "text": [
            "WARNING:root:Lossy conversion from float32 to uint8. Range [-0.9999991059303284, 0.9999983906745911]. Convert image to uint8 prior to saving to suppress this warning.\n"
          ],
          "name": "stderr"
        },
        {
          "output_type": "stream",
          "text": [
            "Iteration [12800/20000] | D_real_loss: 0.1241 | D_fake_loss: 0.1259 | G_loss: 0.2518\n",
            "Saved results/samples_gan/sample-012800.png\n"
          ],
          "name": "stdout"
        },
        {
          "output_type": "stream",
          "text": [
            "WARNING:root:Lossy conversion from float32 to uint8. Range [-0.9999925494194031, 0.999962568283081]. Convert image to uint8 prior to saving to suppress this warning.\n"
          ],
          "name": "stderr"
        },
        {
          "output_type": "stream",
          "text": [
            "Iteration [13000/20000] | D_real_loss: 0.1241 | D_fake_loss: 0.1258 | G_loss: 0.2515\n",
            "Saved results/samples_gan/sample-013000.png\n"
          ],
          "name": "stdout"
        },
        {
          "output_type": "stream",
          "text": [
            "WARNING:root:Lossy conversion from float32 to uint8. Range [-0.9999998211860657, 1.0]. Convert image to uint8 prior to saving to suppress this warning.\n"
          ],
          "name": "stderr"
        },
        {
          "output_type": "stream",
          "text": [
            "Iteration [13200/20000] | D_real_loss: 0.1206 | D_fake_loss: 0.1295 | G_loss: 0.2589\n",
            "Saved results/samples_gan/sample-013200.png\n"
          ],
          "name": "stdout"
        },
        {
          "output_type": "stream",
          "text": [
            "WARNING:root:Lossy conversion from float32 to uint8. Range [-0.9999996423721313, 1.0]. Convert image to uint8 prior to saving to suppress this warning.\n"
          ],
          "name": "stderr"
        },
        {
          "output_type": "stream",
          "text": [
            "Iteration [13400/20000] | D_real_loss: 0.1210 | D_fake_loss: 0.1291 | G_loss: 0.2583\n",
            "Saved results/samples_gan/sample-013400.png\n"
          ],
          "name": "stdout"
        },
        {
          "output_type": "stream",
          "text": [
            "WARNING:root:Lossy conversion from float32 to uint8. Range [-0.9999990463256836, 1.0]. Convert image to uint8 prior to saving to suppress this warning.\n"
          ],
          "name": "stderr"
        },
        {
          "output_type": "stream",
          "text": [
            "Iteration [13600/20000] | D_real_loss: 0.1226 | D_fake_loss: 0.1274 | G_loss: 0.2550\n",
            "Saved results/samples_gan/sample-013600.png\n"
          ],
          "name": "stdout"
        },
        {
          "output_type": "stream",
          "text": [
            "WARNING:root:Lossy conversion from float32 to uint8. Range [-0.9999986886978149, 1.0]. Convert image to uint8 prior to saving to suppress this warning.\n"
          ],
          "name": "stderr"
        },
        {
          "output_type": "stream",
          "text": [
            "Iteration [13800/20000] | D_real_loss: 0.1255 | D_fake_loss: 0.1245 | G_loss: 0.2491\n",
            "Saved results/samples_gan/sample-013800.png\n"
          ],
          "name": "stdout"
        },
        {
          "output_type": "stream",
          "text": [
            "WARNING:root:Lossy conversion from float32 to uint8. Range [-1.0, 1.0]. Convert image to uint8 prior to saving to suppress this warning.\n"
          ],
          "name": "stderr"
        },
        {
          "output_type": "stream",
          "text": [
            "Iteration [14000/20000] | D_real_loss: 0.1256 | D_fake_loss: 0.1243 | G_loss: 0.2495\n",
            "Saved results/samples_gan/sample-014000.png\n"
          ],
          "name": "stdout"
        },
        {
          "output_type": "stream",
          "text": [
            "WARNING:root:Lossy conversion from float32 to uint8. Range [-1.0, 1.0]. Convert image to uint8 prior to saving to suppress this warning.\n"
          ],
          "name": "stderr"
        },
        {
          "output_type": "stream",
          "text": [
            "Iteration [14200/20000] | D_real_loss: 0.1247 | D_fake_loss: 0.1253 | G_loss: 0.2510\n",
            "Saved results/samples_gan/sample-014200.png\n"
          ],
          "name": "stdout"
        },
        {
          "output_type": "stream",
          "text": [
            "WARNING:root:Lossy conversion from float32 to uint8. Range [-0.9999999403953552, 1.0]. Convert image to uint8 prior to saving to suppress this warning.\n"
          ],
          "name": "stderr"
        },
        {
          "output_type": "stream",
          "text": [
            "Iteration [14400/20000] | D_real_loss: 0.1248 | D_fake_loss: 0.1252 | G_loss: 0.2505\n",
            "Saved results/samples_gan/sample-014400.png\n"
          ],
          "name": "stdout"
        },
        {
          "output_type": "stream",
          "text": [
            "WARNING:root:Lossy conversion from float32 to uint8. Range [-0.9999998807907104, 0.9999999403953552]. Convert image to uint8 prior to saving to suppress this warning.\n"
          ],
          "name": "stderr"
        },
        {
          "output_type": "stream",
          "text": [
            "Iteration [14600/20000] | D_real_loss: 0.1251 | D_fake_loss: 0.1248 | G_loss: 0.2496\n",
            "Saved results/samples_gan/sample-014600.png\n"
          ],
          "name": "stdout"
        },
        {
          "output_type": "stream",
          "text": [
            "WARNING:root:Lossy conversion from float32 to uint8. Range [-0.9999997019767761, 0.9999997615814209]. Convert image to uint8 prior to saving to suppress this warning.\n"
          ],
          "name": "stderr"
        },
        {
          "output_type": "stream",
          "text": [
            "Iteration [14800/20000] | D_real_loss: 0.1239 | D_fake_loss: 0.1261 | G_loss: 0.2518\n",
            "Saved results/samples_gan/sample-014800.png\n"
          ],
          "name": "stdout"
        },
        {
          "output_type": "stream",
          "text": [
            "WARNING:root:Lossy conversion from float32 to uint8. Range [-0.9999986290931702, 0.9999991059303284]. Convert image to uint8 prior to saving to suppress this warning.\n"
          ],
          "name": "stderr"
        },
        {
          "output_type": "stream",
          "text": [
            "Iteration [15000/20000] | D_real_loss: 0.1260 | D_fake_loss: 0.1240 | G_loss: 0.2482\n",
            "Saved results/samples_gan/sample-015000.png\n"
          ],
          "name": "stdout"
        },
        {
          "output_type": "stream",
          "text": [
            "WARNING:root:Lossy conversion from float32 to uint8. Range [-1.0, 1.0]. Convert image to uint8 prior to saving to suppress this warning.\n"
          ],
          "name": "stderr"
        },
        {
          "output_type": "stream",
          "text": [
            "Iteration [15200/20000] | D_real_loss: 0.1251 | D_fake_loss: 0.1249 | G_loss: 0.2496\n",
            "Saved results/samples_gan/sample-015200.png\n"
          ],
          "name": "stdout"
        },
        {
          "output_type": "stream",
          "text": [
            "WARNING:root:Lossy conversion from float32 to uint8. Range [-1.0, 1.0]. Convert image to uint8 prior to saving to suppress this warning.\n"
          ],
          "name": "stderr"
        },
        {
          "output_type": "stream",
          "text": [
            "Iteration [15400/20000] | D_real_loss: 0.1242 | D_fake_loss: 0.1258 | G_loss: 0.2515\n",
            "Saved results/samples_gan/sample-015400.png\n"
          ],
          "name": "stdout"
        },
        {
          "output_type": "stream",
          "text": [
            "WARNING:root:Lossy conversion from float32 to uint8. Range [-1.0, 1.0]. Convert image to uint8 prior to saving to suppress this warning.\n"
          ],
          "name": "stderr"
        },
        {
          "output_type": "stream",
          "text": [
            "Iteration [15600/20000] | D_real_loss: 0.1238 | D_fake_loss: 0.1262 | G_loss: 0.2524\n",
            "Saved results/samples_gan/sample-015600.png\n"
          ],
          "name": "stdout"
        },
        {
          "output_type": "stream",
          "text": [
            "WARNING:root:Lossy conversion from float32 to uint8. Range [-1.0, 1.0]. Convert image to uint8 prior to saving to suppress this warning.\n"
          ],
          "name": "stderr"
        },
        {
          "output_type": "stream",
          "text": [
            "Iteration [15800/20000] | D_real_loss: 0.1227 | D_fake_loss: 0.1273 | G_loss: 0.2548\n",
            "Saved results/samples_gan/sample-015800.png\n"
          ],
          "name": "stdout"
        },
        {
          "output_type": "stream",
          "text": [
            "WARNING:root:Lossy conversion from float32 to uint8. Range [-1.0, 1.0]. Convert image to uint8 prior to saving to suppress this warning.\n"
          ],
          "name": "stderr"
        },
        {
          "output_type": "stream",
          "text": [
            "Iteration [16000/20000] | D_real_loss: 0.1212 | D_fake_loss: 0.1289 | G_loss: 0.2575\n",
            "Saved results/samples_gan/sample-016000.png\n"
          ],
          "name": "stdout"
        },
        {
          "output_type": "stream",
          "text": [
            "WARNING:root:Lossy conversion from float32 to uint8. Range [-1.0, 1.0]. Convert image to uint8 prior to saving to suppress this warning.\n"
          ],
          "name": "stderr"
        },
        {
          "output_type": "stream",
          "text": [
            "Iteration [16200/20000] | D_real_loss: 0.1197 | D_fake_loss: 0.1304 | G_loss: 0.2614\n",
            "Saved results/samples_gan/sample-016200.png\n"
          ],
          "name": "stdout"
        },
        {
          "output_type": "stream",
          "text": [
            "WARNING:root:Lossy conversion from float32 to uint8. Range [-1.0, 1.0]. Convert image to uint8 prior to saving to suppress this warning.\n"
          ],
          "name": "stderr"
        },
        {
          "output_type": "stream",
          "text": [
            "Iteration [16400/20000] | D_real_loss: 0.1243 | D_fake_loss: 0.1257 | G_loss: 0.2517\n",
            "Saved results/samples_gan/sample-016400.png\n"
          ],
          "name": "stdout"
        },
        {
          "output_type": "stream",
          "text": [
            "WARNING:root:Lossy conversion from float32 to uint8. Range [-1.0, 1.0]. Convert image to uint8 prior to saving to suppress this warning.\n"
          ],
          "name": "stderr"
        },
        {
          "output_type": "stream",
          "text": [
            "Iteration [16600/20000] | D_real_loss: 0.1243 | D_fake_loss: 0.1257 | G_loss: 0.2510\n",
            "Saved results/samples_gan/sample-016600.png\n"
          ],
          "name": "stdout"
        },
        {
          "output_type": "stream",
          "text": [
            "WARNING:root:Lossy conversion from float32 to uint8. Range [-1.0, 1.0]. Convert image to uint8 prior to saving to suppress this warning.\n"
          ],
          "name": "stderr"
        },
        {
          "output_type": "stream",
          "text": [
            "Iteration [16800/20000] | D_real_loss: 0.1250 | D_fake_loss: 0.1250 | G_loss: 0.2501\n",
            "Saved results/samples_gan/sample-016800.png\n"
          ],
          "name": "stdout"
        },
        {
          "output_type": "stream",
          "text": [
            "WARNING:root:Lossy conversion from float32 to uint8. Range [-1.0, 1.0]. Convert image to uint8 prior to saving to suppress this warning.\n"
          ],
          "name": "stderr"
        },
        {
          "output_type": "stream",
          "text": [
            "Iteration [17000/20000] | D_real_loss: 0.1258 | D_fake_loss: 0.1242 | G_loss: 0.2486\n",
            "Saved results/samples_gan/sample-017000.png\n"
          ],
          "name": "stdout"
        },
        {
          "output_type": "stream",
          "text": [
            "WARNING:root:Lossy conversion from float32 to uint8. Range [-1.0, 1.0]. Convert image to uint8 prior to saving to suppress this warning.\n"
          ],
          "name": "stderr"
        },
        {
          "output_type": "stream",
          "text": [
            "Iteration [17200/20000] | D_real_loss: 0.1239 | D_fake_loss: 0.1261 | G_loss: 0.2521\n",
            "Saved results/samples_gan/sample-017200.png\n"
          ],
          "name": "stdout"
        },
        {
          "output_type": "stream",
          "text": [
            "WARNING:root:Lossy conversion from float32 to uint8. Range [-1.0, 1.0]. Convert image to uint8 prior to saving to suppress this warning.\n"
          ],
          "name": "stderr"
        },
        {
          "output_type": "stream",
          "text": [
            "Iteration [17400/20000] | D_real_loss: 0.1244 | D_fake_loss: 0.1256 | G_loss: 0.2513\n",
            "Saved results/samples_gan/sample-017400.png\n"
          ],
          "name": "stdout"
        },
        {
          "output_type": "stream",
          "text": [
            "WARNING:root:Lossy conversion from float32 to uint8. Range [-1.0, 1.0]. Convert image to uint8 prior to saving to suppress this warning.\n"
          ],
          "name": "stderr"
        },
        {
          "output_type": "stream",
          "text": [
            "Iteration [17600/20000] | D_real_loss: 0.1224 | D_fake_loss: 0.1276 | G_loss: 0.2557\n",
            "Saved results/samples_gan/sample-017600.png\n"
          ],
          "name": "stdout"
        },
        {
          "output_type": "stream",
          "text": [
            "WARNING:root:Lossy conversion from float32 to uint8. Range [-1.0, 1.0]. Convert image to uint8 prior to saving to suppress this warning.\n"
          ],
          "name": "stderr"
        },
        {
          "output_type": "stream",
          "text": [
            "Iteration [17800/20000] | D_real_loss: 0.1251 | D_fake_loss: 0.1249 | G_loss: 0.2503\n",
            "Saved results/samples_gan/sample-017800.png\n"
          ],
          "name": "stdout"
        },
        {
          "output_type": "stream",
          "text": [
            "WARNING:root:Lossy conversion from float32 to uint8. Range [-1.0, 1.0]. Convert image to uint8 prior to saving to suppress this warning.\n"
          ],
          "name": "stderr"
        },
        {
          "output_type": "stream",
          "text": [
            "Iteration [18000/20000] | D_real_loss: 0.1249 | D_fake_loss: 0.1251 | G_loss: 0.2501\n",
            "Saved results/samples_gan/sample-018000.png\n"
          ],
          "name": "stdout"
        },
        {
          "output_type": "stream",
          "text": [
            "WARNING:root:Lossy conversion from float32 to uint8. Range [-1.0, 1.0]. Convert image to uint8 prior to saving to suppress this warning.\n"
          ],
          "name": "stderr"
        },
        {
          "output_type": "stream",
          "text": [
            "Iteration [18200/20000] | D_real_loss: 0.1239 | D_fake_loss: 0.1261 | G_loss: 0.2522\n",
            "Saved results/samples_gan/sample-018200.png\n"
          ],
          "name": "stdout"
        },
        {
          "output_type": "stream",
          "text": [
            "WARNING:root:Lossy conversion from float32 to uint8. Range [-1.0, 1.0]. Convert image to uint8 prior to saving to suppress this warning.\n"
          ],
          "name": "stderr"
        },
        {
          "output_type": "stream",
          "text": [
            "Iteration [18400/20000] | D_real_loss: 0.1220 | D_fake_loss: 0.1280 | G_loss: 0.2557\n",
            "Saved results/samples_gan/sample-018400.png\n"
          ],
          "name": "stdout"
        },
        {
          "output_type": "stream",
          "text": [
            "WARNING:root:Lossy conversion from float32 to uint8. Range [-1.0, 1.0]. Convert image to uint8 prior to saving to suppress this warning.\n"
          ],
          "name": "stderr"
        },
        {
          "output_type": "stream",
          "text": [
            "Iteration [18600/20000] | D_real_loss: 0.1206 | D_fake_loss: 0.1295 | G_loss: 0.2580\n",
            "Saved results/samples_gan/sample-018600.png\n"
          ],
          "name": "stdout"
        },
        {
          "output_type": "stream",
          "text": [
            "WARNING:root:Lossy conversion from float32 to uint8. Range [-1.0, 1.0]. Convert image to uint8 prior to saving to suppress this warning.\n"
          ],
          "name": "stderr"
        },
        {
          "output_type": "stream",
          "text": [
            "Iteration [18800/20000] | D_real_loss: 0.1249 | D_fake_loss: 0.1251 | G_loss: 0.2503\n",
            "Saved results/samples_gan/sample-018800.png\n"
          ],
          "name": "stdout"
        },
        {
          "output_type": "stream",
          "text": [
            "WARNING:root:Lossy conversion from float32 to uint8. Range [-1.0, 1.0]. Convert image to uint8 prior to saving to suppress this warning.\n"
          ],
          "name": "stderr"
        },
        {
          "output_type": "stream",
          "text": [
            "Iteration [19000/20000] | D_real_loss: 0.1247 | D_fake_loss: 0.1252 | G_loss: 0.2505\n",
            "Saved results/samples_gan/sample-019000.png\n"
          ],
          "name": "stdout"
        },
        {
          "output_type": "stream",
          "text": [
            "WARNING:root:Lossy conversion from float32 to uint8. Range [-1.0, 1.0]. Convert image to uint8 prior to saving to suppress this warning.\n"
          ],
          "name": "stderr"
        },
        {
          "output_type": "stream",
          "text": [
            "Iteration [19200/20000] | D_real_loss: 0.1249 | D_fake_loss: 0.1251 | G_loss: 0.2501\n",
            "Saved results/samples_gan/sample-019200.png\n"
          ],
          "name": "stdout"
        },
        {
          "output_type": "stream",
          "text": [
            "WARNING:root:Lossy conversion from float32 to uint8. Range [-1.0, 1.0]. Convert image to uint8 prior to saving to suppress this warning.\n"
          ],
          "name": "stderr"
        },
        {
          "output_type": "stream",
          "text": [
            "Iteration [19400/20000] | D_real_loss: 0.1251 | D_fake_loss: 0.1249 | G_loss: 0.2498\n",
            "Saved results/samples_gan/sample-019400.png\n"
          ],
          "name": "stdout"
        },
        {
          "output_type": "stream",
          "text": [
            "WARNING:root:Lossy conversion from float32 to uint8. Range [-1.0, 1.0]. Convert image to uint8 prior to saving to suppress this warning.\n"
          ],
          "name": "stderr"
        },
        {
          "output_type": "stream",
          "text": [
            "Iteration [19600/20000] | D_real_loss: 0.1259 | D_fake_loss: 0.1241 | G_loss: 0.2484\n",
            "Saved results/samples_gan/sample-019600.png\n"
          ],
          "name": "stdout"
        },
        {
          "output_type": "stream",
          "text": [
            "WARNING:root:Lossy conversion from float32 to uint8. Range [-1.0, 1.0]. Convert image to uint8 prior to saving to suppress this warning.\n"
          ],
          "name": "stderr"
        },
        {
          "output_type": "stream",
          "text": [
            "Iteration [19800/20000] | D_real_loss: 0.1251 | D_fake_loss: 0.1249 | G_loss: 0.2499\n",
            "Saved results/samples_gan/sample-019800.png\n"
          ],
          "name": "stdout"
        },
        {
          "output_type": "stream",
          "text": [
            "WARNING:root:Lossy conversion from float32 to uint8. Range [-1.0, 1.0]. Convert image to uint8 prior to saving to suppress this warning.\n"
          ],
          "name": "stderr"
        },
        {
          "output_type": "stream",
          "text": [
            "Iteration [20000/20000] | D_real_loss: 0.1250 | D_fake_loss: 0.1250 | G_loss: 0.2499\n",
            "Saved results/samples_gan/sample-020000.png\n",
            "adding image results/samples_gan/losses.png\n",
            "adding image results/samples_gan/sample-000200.png\n",
            "adding image results/samples_gan/sample-000400.png\n",
            "adding image results/samples_gan/sample-000600.png\n",
            "adding image results/samples_gan/sample-000800.png\n",
            "adding image results/samples_gan/sample-001000.png\n",
            "adding image results/samples_gan/sample-001200.png\n",
            "adding image results/samples_gan/sample-001400.png\n",
            "adding image results/samples_gan/sample-001600.png\n",
            "adding image results/samples_gan/sample-001800.png\n",
            "adding image results/samples_gan/sample-002000.png\n",
            "adding image results/samples_gan/sample-002200.png\n",
            "adding image results/samples_gan/sample-002400.png\n",
            "adding image results/samples_gan/sample-002600.png\n",
            "adding image results/samples_gan/sample-002800.png\n",
            "adding image results/samples_gan/sample-003000.png\n",
            "adding image results/samples_gan/sample-003200.png\n",
            "adding image results/samples_gan/sample-003400.png\n",
            "adding image results/samples_gan/sample-003600.png\n",
            "adding image results/samples_gan/sample-003800.png\n",
            "adding image results/samples_gan/sample-004000.png\n",
            "adding image results/samples_gan/sample-004200.png\n",
            "adding image results/samples_gan/sample-004400.png\n",
            "adding image results/samples_gan/sample-004600.png\n",
            "adding image results/samples_gan/sample-004800.png\n",
            "adding image results/samples_gan/sample-005000.png\n",
            "adding image results/samples_gan/sample-005200.png\n",
            "adding image results/samples_gan/sample-005400.png\n",
            "adding image results/samples_gan/sample-005600.png\n",
            "adding image results/samples_gan/sample-005800.png\n",
            "adding image results/samples_gan/sample-006000.png\n",
            "adding image results/samples_gan/sample-006200.png\n",
            "adding image results/samples_gan/sample-006400.png\n",
            "adding image results/samples_gan/sample-006600.png\n",
            "adding image results/samples_gan/sample-006800.png\n",
            "adding image results/samples_gan/sample-007000.png\n",
            "adding image results/samples_gan/sample-007200.png\n",
            "adding image results/samples_gan/sample-007400.png\n",
            "adding image results/samples_gan/sample-007600.png\n",
            "adding image results/samples_gan/sample-007800.png\n",
            "adding image results/samples_gan/sample-008000.png\n",
            "adding image results/samples_gan/sample-008200.png\n",
            "adding image results/samples_gan/sample-008400.png\n",
            "adding image results/samples_gan/sample-008600.png\n",
            "adding image results/samples_gan/sample-008800.png\n",
            "adding image results/samples_gan/sample-009000.png\n",
            "adding image results/samples_gan/sample-009200.png\n",
            "adding image results/samples_gan/sample-009400.png\n",
            "adding image results/samples_gan/sample-009600.png\n",
            "adding image results/samples_gan/sample-009800.png\n",
            "adding image results/samples_gan/sample-010000.png\n",
            "adding image results/samples_gan/sample-010200.png\n",
            "adding image results/samples_gan/sample-010400.png\n",
            "adding image results/samples_gan/sample-010600.png\n",
            "adding image results/samples_gan/sample-010800.png\n",
            "adding image results/samples_gan/sample-011000.png\n",
            "adding image results/samples_gan/sample-011200.png\n",
            "adding image results/samples_gan/sample-011400.png\n",
            "adding image results/samples_gan/sample-011600.png\n",
            "adding image results/samples_gan/sample-011800.png\n",
            "adding image results/samples_gan/sample-012000.png\n",
            "adding image results/samples_gan/sample-012200.png\n",
            "adding image results/samples_gan/sample-012400.png\n",
            "adding image results/samples_gan/sample-012600.png\n",
            "adding image results/samples_gan/sample-012800.png\n",
            "adding image results/samples_gan/sample-013000.png\n",
            "adding image results/samples_gan/sample-013200.png\n",
            "adding image results/samples_gan/sample-013400.png\n",
            "adding image results/samples_gan/sample-013600.png\n",
            "adding image results/samples_gan/sample-013800.png\n",
            "adding image results/samples_gan/sample-014000.png\n",
            "adding image results/samples_gan/sample-014200.png\n",
            "adding image results/samples_gan/sample-014400.png\n",
            "adding image results/samples_gan/sample-014600.png\n",
            "adding image results/samples_gan/sample-014800.png\n",
            "adding image results/samples_gan/sample-015000.png\n",
            "adding image results/samples_gan/sample-015200.png\n",
            "adding image results/samples_gan/sample-015400.png\n",
            "adding image results/samples_gan/sample-015600.png\n",
            "adding image results/samples_gan/sample-015800.png\n",
            "adding image results/samples_gan/sample-016000.png\n",
            "adding image results/samples_gan/sample-016200.png\n",
            "adding image results/samples_gan/sample-016400.png\n",
            "adding image results/samples_gan/sample-016600.png\n",
            "adding image results/samples_gan/sample-016800.png\n",
            "adding image results/samples_gan/sample-017000.png\n",
            "adding image results/samples_gan/sample-017200.png\n",
            "adding image results/samples_gan/sample-017400.png\n",
            "adding image results/samples_gan/sample-017600.png\n",
            "adding image results/samples_gan/sample-017800.png\n",
            "adding image results/samples_gan/sample-018000.png\n",
            "adding image results/samples_gan/sample-018200.png\n",
            "adding image results/samples_gan/sample-018400.png\n",
            "adding image results/samples_gan/sample-018600.png\n",
            "adding image results/samples_gan/sample-018800.png\n",
            "adding image results/samples_gan/sample-019000.png\n",
            "adding image results/samples_gan/sample-019200.png\n",
            "adding image results/samples_gan/sample-019400.png\n",
            "adding image results/samples_gan/sample-019600.png\n",
            "adding image results/samples_gan/sample-019800.png\n",
            "adding image results/samples_gan/sample-020000.png\n"
          ],
          "name": "stdout"
        }
      ]
    },
    {
      "cell_type": "markdown",
      "metadata": {
        "colab_type": "text",
        "id": "7cP7nl5NRJbu"
      },
      "source": [
        "## CycleGAN"
      ]
    },
    {
      "cell_type": "code",
      "metadata": {
        "colab_type": "code",
        "id": "nKlyfbuPDXDR",
        "outputId": "d3492a5e-f989-491f-d357-aac20565cedc",
        "colab": {
          "base_uri": "https://localhost:8080/",
          "height": 1000
        }
      },
      "source": [
        "SEED = 3\n",
        "\n",
        "# Set the random seed manually for reproducibility.\n",
        "np.random.seed(SEED)\n",
        "torch.manual_seed(SEED)\n",
        "if torch.cuda.is_available():\n",
        "    torch.cuda.manual_seed(SEED)\n",
        "\n",
        "\n",
        "args = AttrDict()\n",
        "args_dict = {\n",
        "              'image_size':32, \n",
        "              'g_conv_dim':32, \n",
        "              'd_conv_dim':32,\n",
        "              'init_zero_weights': False,\n",
        "              'num_workers': 0,\n",
        "              'train_iters':5000,\n",
        "              'X':'Apple',\n",
        "              'Y':'Windows',\n",
        "              'lambda_cycle': 0.015,\n",
        "              'lr':0.0003,\n",
        "              'beta1':0.3,\n",
        "              'beta2':0.999,\n",
        "              'batch_size':32, \n",
        "              'checkpoint_dir': 'results/checkpoints_cyclegan',\n",
        "              'sample_dir': 'results/samples_cyclegan',\n",
        "              'load': None,\n",
        "              'log_step':200,\n",
        "              'sample_every':200,\n",
        "              'checkpoint_every':1000\n",
        "}\n",
        "args.update(args_dict)\n",
        "\n",
        "\n",
        "print_opts(args)\n",
        "G_XtoY, G_YtoX, D_X, D_Y = train(args)\n",
        "generate_gif(\"results/samples_cyclegan\", keyword='X-Y')\n",
        "generate_gif(\"results/samples_cyclegan\", keyword='Y-X')"
      ],
      "execution_count": 0,
      "outputs": [
        {
          "output_type": "stream",
          "text": [
            "================================================================================\n",
            "                                      Opts                                      \n",
            "--------------------------------------------------------------------------------\n",
            "                             image_size: 32                                     \n",
            "                             g_conv_dim: 32                                     \n",
            "                             d_conv_dim: 32                                     \n",
            "                            train_iters: 5000                                   \n",
            "                                      X: Apple                                  \n",
            "                                      Y: Windows                                \n",
            "                           lambda_cycle: 0.015                                  \n",
            "                                     lr: 0.0003                                 \n",
            "                                  beta1: 0.3                                    \n",
            "                                  beta2: 0.999                                  \n",
            "                             batch_size: 32                                     \n",
            "                         checkpoint_dir: results/checkpoints_cyclegan           \n",
            "                             sample_dir: results/samples_cyclegan               \n",
            "                               log_step: 200                                    \n",
            "                           sample_every: 200                                    \n",
            "                       checkpoint_every: 1000                                   \n",
            "================================================================================\n",
            "                 G_XtoY                \n",
            "---------------------------------------\n",
            "CycleGenerator(\n",
            "  (conv1): Sequential(\n",
            "    (0): Conv2d(3, 32, kernel_size=(5, 5), stride=(2, 2), padding=(2, 2), bias=False)\n",
            "    (1): BatchNorm2d(32, eps=1e-05, momentum=0.1, affine=True, track_running_stats=True)\n",
            "  )\n",
            "  (conv2): Sequential(\n",
            "    (0): Conv2d(32, 64, kernel_size=(5, 5), stride=(2, 2), padding=(2, 2), bias=False)\n",
            "    (1): BatchNorm2d(64, eps=1e-05, momentum=0.1, affine=True, track_running_stats=True)\n",
            "  )\n",
            "  (resnet_block): ResnetBlock(\n",
            "    (conv_layer): Sequential(\n",
            "      (0): Conv2d(64, 64, kernel_size=(3, 3), stride=(1, 1), padding=(1, 1), bias=False)\n",
            "      (1): BatchNorm2d(64, eps=1e-05, momentum=0.1, affine=True, track_running_stats=True)\n",
            "    )\n",
            "  )\n",
            "  (upconv1): Sequential(\n",
            "    (0): Upsample(scale_factor=2.0, mode=nearest)\n",
            "    (1): Conv2d(64, 32, kernel_size=(5, 5), stride=(1, 1), padding=(2, 2), bias=False)\n",
            "    (2): BatchNorm2d(32, eps=1e-05, momentum=0.1, affine=True, track_running_stats=True)\n",
            "  )\n",
            "  (upconv2): Sequential(\n",
            "    (0): Upsample(scale_factor=2.0, mode=nearest)\n",
            "    (1): Conv2d(32, 3, kernel_size=(5, 5), stride=(1, 1), padding=(2, 2), bias=False)\n",
            "  )\n",
            ")\n",
            "---------------------------------------\n",
            "                 G_YtoX                \n",
            "---------------------------------------\n",
            "CycleGenerator(\n",
            "  (conv1): Sequential(\n",
            "    (0): Conv2d(3, 32, kernel_size=(5, 5), stride=(2, 2), padding=(2, 2), bias=False)\n",
            "    (1): BatchNorm2d(32, eps=1e-05, momentum=0.1, affine=True, track_running_stats=True)\n",
            "  )\n",
            "  (conv2): Sequential(\n",
            "    (0): Conv2d(32, 64, kernel_size=(5, 5), stride=(2, 2), padding=(2, 2), bias=False)\n",
            "    (1): BatchNorm2d(64, eps=1e-05, momentum=0.1, affine=True, track_running_stats=True)\n",
            "  )\n",
            "  (resnet_block): ResnetBlock(\n",
            "    (conv_layer): Sequential(\n",
            "      (0): Conv2d(64, 64, kernel_size=(3, 3), stride=(1, 1), padding=(1, 1), bias=False)\n",
            "      (1): BatchNorm2d(64, eps=1e-05, momentum=0.1, affine=True, track_running_stats=True)\n",
            "    )\n",
            "  )\n",
            "  (upconv1): Sequential(\n",
            "    (0): Upsample(scale_factor=2.0, mode=nearest)\n",
            "    (1): Conv2d(64, 32, kernel_size=(5, 5), stride=(1, 1), padding=(2, 2), bias=False)\n",
            "    (2): BatchNorm2d(32, eps=1e-05, momentum=0.1, affine=True, track_running_stats=True)\n",
            "  )\n",
            "  (upconv2): Sequential(\n",
            "    (0): Upsample(scale_factor=2.0, mode=nearest)\n",
            "    (1): Conv2d(32, 3, kernel_size=(5, 5), stride=(1, 1), padding=(2, 2), bias=False)\n",
            "  )\n",
            ")\n",
            "---------------------------------------\n",
            "                  D_X                  \n",
            "---------------------------------------\n",
            "DCDiscriminator(\n",
            "  (conv1): Sequential(\n",
            "    (0): Conv2d(3, 32, kernel_size=(5, 5), stride=(2, 2), padding=(2, 2), bias=False)\n",
            "    (1): BatchNorm2d(32, eps=1e-05, momentum=0.1, affine=True, track_running_stats=True)\n",
            "  )\n",
            "  (conv2): Sequential(\n",
            "    (0): Conv2d(32, 64, kernel_size=(5, 5), stride=(2, 2), padding=(2, 2), bias=False)\n",
            "    (1): BatchNorm2d(64, eps=1e-05, momentum=0.1, affine=True, track_running_stats=True)\n",
            "  )\n",
            "  (conv3): Sequential(\n",
            "    (0): Conv2d(64, 128, kernel_size=(5, 5), stride=(2, 2), padding=(2, 2), bias=False)\n",
            "    (1): BatchNorm2d(128, eps=1e-05, momentum=0.1, affine=True, track_running_stats=True)\n",
            "  )\n",
            "  (conv4): Sequential(\n",
            "    (0): Conv2d(128, 1, kernel_size=(5, 5), stride=(2, 2), padding=(1, 1), bias=False)\n",
            "  )\n",
            ")\n",
            "---------------------------------------\n",
            "                  D_Y                  \n",
            "---------------------------------------\n",
            "DCDiscriminator(\n",
            "  (conv1): Sequential(\n",
            "    (0): Conv2d(3, 32, kernel_size=(5, 5), stride=(2, 2), padding=(2, 2), bias=False)\n",
            "    (1): BatchNorm2d(32, eps=1e-05, momentum=0.1, affine=True, track_running_stats=True)\n",
            "  )\n",
            "  (conv2): Sequential(\n",
            "    (0): Conv2d(32, 64, kernel_size=(5, 5), stride=(2, 2), padding=(2, 2), bias=False)\n",
            "    (1): BatchNorm2d(64, eps=1e-05, momentum=0.1, affine=True, track_running_stats=True)\n",
            "  )\n",
            "  (conv3): Sequential(\n",
            "    (0): Conv2d(64, 128, kernel_size=(5, 5), stride=(2, 2), padding=(2, 2), bias=False)\n",
            "    (1): BatchNorm2d(128, eps=1e-05, momentum=0.1, affine=True, track_running_stats=True)\n",
            "  )\n",
            "  (conv4): Sequential(\n",
            "    (0): Conv2d(128, 1, kernel_size=(5, 5), stride=(2, 2), padding=(1, 1), bias=False)\n",
            "  )\n",
            ")\n",
            "---------------------------------------\n",
            "Models moved to GPU.\n"
          ],
          "name": "stdout"
        },
        {
          "output_type": "stream",
          "text": [
            "/usr/local/lib/python3.6/dist-packages/torchvision/transforms/transforms.py:220: UserWarning: The use of the transforms.Scale transform is deprecated, please use transforms.Resize instead.\n",
            "  \"please use transforms.Resize instead.\")\n",
            "/usr/local/lib/python3.6/dist-packages/PIL/Image.py:932: UserWarning: Palette images with Transparency expressed in bytes should be converted to RGBA images\n",
            "  \"Palette images with Transparency expressed in bytes should be \"\n",
            "/usr/local/lib/python3.6/dist-packages/torch/nn/functional.py:1340: UserWarning: nn.functional.tanh is deprecated. Use torch.tanh instead.\n",
            "  warnings.warn(\"nn.functional.tanh is deprecated. Use torch.tanh instead.\")\n",
            "WARNING:root:Lossy conversion from float64 to uint8. Range [-1.0, 1.0]. Convert image to uint8 prior to saving to suppress this warning.\n",
            "WARNING:root:Lossy conversion from float64 to uint8. Range [-1.0, 1.0]. Convert image to uint8 prior to saving to suppress this warning.\n"
          ],
          "name": "stderr"
        },
        {
          "output_type": "stream",
          "text": [
            "Iteration [  200/ 5000] | d_real_loss: 0.1398 | d_Y_loss: 0.0960 | d_X_loss: 0.0428 | d_fake_loss: 0.1388 | g_loss: 7.9243\n",
            "Saved results/samples_cyclegan/sample-000200-X-Y.png\n",
            "Saved results/samples_cyclegan/sample-000200-Y-X.png\n"
          ],
          "name": "stdout"
        },
        {
          "output_type": "stream",
          "text": [
            "WARNING:root:Lossy conversion from float64 to uint8. Range [-1.0, 1.0]. Convert image to uint8 prior to saving to suppress this warning.\n",
            "WARNING:root:Lossy conversion from float64 to uint8. Range [-1.0, 1.0]. Convert image to uint8 prior to saving to suppress this warning.\n"
          ],
          "name": "stderr"
        },
        {
          "output_type": "stream",
          "text": [
            "Iteration [  400/ 5000] | d_real_loss: 0.0542 | d_Y_loss: 0.0376 | d_X_loss: 0.0395 | d_fake_loss: 0.0772 | g_loss: 7.9888\n",
            "Saved results/samples_cyclegan/sample-000400-X-Y.png\n",
            "Saved results/samples_cyclegan/sample-000400-Y-X.png\n"
          ],
          "name": "stdout"
        },
        {
          "output_type": "stream",
          "text": [
            "WARNING:root:Lossy conversion from float64 to uint8. Range [-1.0, 1.0]. Convert image to uint8 prior to saving to suppress this warning.\n",
            "WARNING:root:Lossy conversion from float64 to uint8. Range [-1.0, 1.0]. Convert image to uint8 prior to saving to suppress this warning.\n"
          ],
          "name": "stderr"
        },
        {
          "output_type": "stream",
          "text": [
            "Iteration [  600/ 5000] | d_real_loss: 0.0463 | d_Y_loss: 0.1084 | d_X_loss: 0.0267 | d_fake_loss: 0.1351 | g_loss: 8.8389\n",
            "Saved results/samples_cyclegan/sample-000600-X-Y.png\n",
            "Saved results/samples_cyclegan/sample-000600-Y-X.png\n"
          ],
          "name": "stdout"
        },
        {
          "output_type": "stream",
          "text": [
            "WARNING:root:Lossy conversion from float64 to uint8. Range [-1.0, 1.0]. Convert image to uint8 prior to saving to suppress this warning.\n",
            "WARNING:root:Lossy conversion from float64 to uint8. Range [-1.0, 1.0]. Convert image to uint8 prior to saving to suppress this warning.\n"
          ],
          "name": "stderr"
        },
        {
          "output_type": "stream",
          "text": [
            "Iteration [  800/ 5000] | d_real_loss: 0.0694 | d_Y_loss: 0.0815 | d_X_loss: 0.0411 | d_fake_loss: 0.1226 | g_loss: 7.0736\n",
            "Saved results/samples_cyclegan/sample-000800-X-Y.png\n",
            "Saved results/samples_cyclegan/sample-000800-Y-X.png\n"
          ],
          "name": "stdout"
        },
        {
          "output_type": "stream",
          "text": [
            "WARNING:root:Lossy conversion from float64 to uint8. Range [-1.0, 1.0]. Convert image to uint8 prior to saving to suppress this warning.\n"
          ],
          "name": "stderr"
        },
        {
          "output_type": "stream",
          "text": [
            "Iteration [ 1000/ 5000] | d_real_loss: 0.0399 | d_Y_loss: 0.0325 | d_X_loss: 0.0273 | d_fake_loss: 0.0598 | g_loss: 6.1702\n",
            "Saved results/samples_cyclegan/sample-001000-X-Y.png\n",
            "Saved results/samples_cyclegan/sample-001000-Y-X.png\n"
          ],
          "name": "stdout"
        },
        {
          "output_type": "stream",
          "text": [
            "WARNING:root:Lossy conversion from float64 to uint8. Range [-1.0, 1.0]. Convert image to uint8 prior to saving to suppress this warning.\n"
          ],
          "name": "stderr"
        },
        {
          "output_type": "stream",
          "text": [
            "Iteration [ 1200/ 5000] | d_real_loss: 0.0838 | d_Y_loss: 0.0685 | d_X_loss: 0.0160 | d_fake_loss: 0.0845 | g_loss: 7.8435\n",
            "Saved results/samples_cyclegan/sample-001200-X-Y.png\n",
            "Saved results/samples_cyclegan/sample-001200-Y-X.png\n"
          ],
          "name": "stdout"
        },
        {
          "output_type": "stream",
          "text": [
            "WARNING:root:Lossy conversion from float64 to uint8. Range [-1.0, 1.0]. Convert image to uint8 prior to saving to suppress this warning.\n",
            "WARNING:root:Lossy conversion from float64 to uint8. Range [-1.0, 1.0]. Convert image to uint8 prior to saving to suppress this warning.\n"
          ],
          "name": "stderr"
        },
        {
          "output_type": "stream",
          "text": [
            "Iteration [ 1400/ 5000] | d_real_loss: 0.0384 | d_Y_loss: 0.0365 | d_X_loss: 0.0311 | d_fake_loss: 0.0676 | g_loss: 6.3754\n",
            "Saved results/samples_cyclegan/sample-001400-X-Y.png\n",
            "Saved results/samples_cyclegan/sample-001400-Y-X.png\n"
          ],
          "name": "stdout"
        },
        {
          "output_type": "stream",
          "text": [
            "WARNING:root:Lossy conversion from float64 to uint8. Range [-1.0, 1.0]. Convert image to uint8 prior to saving to suppress this warning.\n",
            "WARNING:root:Lossy conversion from float64 to uint8. Range [-1.0, 1.0]. Convert image to uint8 prior to saving to suppress this warning.\n"
          ],
          "name": "stderr"
        },
        {
          "output_type": "stream",
          "text": [
            "Iteration [ 1600/ 5000] | d_real_loss: 0.0696 | d_Y_loss: 0.0102 | d_X_loss: 0.0824 | d_fake_loss: 0.0926 | g_loss: 6.2666\n",
            "Saved results/samples_cyclegan/sample-001600-X-Y.png\n",
            "Saved results/samples_cyclegan/sample-001600-Y-X.png\n"
          ],
          "name": "stdout"
        },
        {
          "output_type": "stream",
          "text": [
            "WARNING:root:Lossy conversion from float64 to uint8. Range [-1.0, 1.0]. Convert image to uint8 prior to saving to suppress this warning.\n",
            "WARNING:root:Lossy conversion from float64 to uint8. Range [-1.0, 1.0]. Convert image to uint8 prior to saving to suppress this warning.\n"
          ],
          "name": "stderr"
        },
        {
          "output_type": "stream",
          "text": [
            "Iteration [ 1800/ 5000] | d_real_loss: 0.0593 | d_Y_loss: 0.0300 | d_X_loss: 0.0601 | d_fake_loss: 0.0901 | g_loss: 7.4989\n",
            "Saved results/samples_cyclegan/sample-001800-X-Y.png\n",
            "Saved results/samples_cyclegan/sample-001800-Y-X.png\n"
          ],
          "name": "stdout"
        },
        {
          "output_type": "stream",
          "text": [
            "WARNING:root:Lossy conversion from float64 to uint8. Range [-1.0, 1.0]. Convert image to uint8 prior to saving to suppress this warning.\n",
            "WARNING:root:Lossy conversion from float64 to uint8. Range [-1.0, 1.0]. Convert image to uint8 prior to saving to suppress this warning.\n"
          ],
          "name": "stderr"
        },
        {
          "output_type": "stream",
          "text": [
            "Iteration [ 2000/ 5000] | d_real_loss: 0.0385 | d_Y_loss: 0.0103 | d_X_loss: 0.0448 | d_fake_loss: 0.0551 | g_loss: 6.4967\n",
            "Saved results/samples_cyclegan/sample-002000-X-Y.png\n",
            "Saved results/samples_cyclegan/sample-002000-Y-X.png\n"
          ],
          "name": "stdout"
        },
        {
          "output_type": "stream",
          "text": [
            "WARNING:root:Lossy conversion from float64 to uint8. Range [-1.0, 1.0]. Convert image to uint8 prior to saving to suppress this warning.\n",
            "WARNING:root:Lossy conversion from float64 to uint8. Range [-1.0, 1.0]. Convert image to uint8 prior to saving to suppress this warning.\n"
          ],
          "name": "stderr"
        },
        {
          "output_type": "stream",
          "text": [
            "Iteration [ 2200/ 5000] | d_real_loss: 0.0277 | d_Y_loss: 0.0145 | d_X_loss: 0.0240 | d_fake_loss: 0.0385 | g_loss: 5.7960\n",
            "Saved results/samples_cyclegan/sample-002200-X-Y.png\n",
            "Saved results/samples_cyclegan/sample-002200-Y-X.png\n"
          ],
          "name": "stdout"
        },
        {
          "output_type": "stream",
          "text": [
            "WARNING:root:Lossy conversion from float64 to uint8. Range [-1.0, 1.0]. Convert image to uint8 prior to saving to suppress this warning.\n",
            "WARNING:root:Lossy conversion from float64 to uint8. Range [-1.0, 1.0]. Convert image to uint8 prior to saving to suppress this warning.\n"
          ],
          "name": "stderr"
        },
        {
          "output_type": "stream",
          "text": [
            "Iteration [ 2400/ 5000] | d_real_loss: 0.0716 | d_Y_loss: 0.0504 | d_X_loss: 0.0134 | d_fake_loss: 0.0638 | g_loss: 6.5508\n",
            "Saved results/samples_cyclegan/sample-002400-X-Y.png\n",
            "Saved results/samples_cyclegan/sample-002400-Y-X.png\n"
          ],
          "name": "stdout"
        },
        {
          "output_type": "stream",
          "text": [
            "WARNING:root:Lossy conversion from float64 to uint8. Range [-1.0, 1.0]. Convert image to uint8 prior to saving to suppress this warning.\n",
            "WARNING:root:Lossy conversion from float64 to uint8. Range [-1.0, 1.0]. Convert image to uint8 prior to saving to suppress this warning.\n"
          ],
          "name": "stderr"
        },
        {
          "output_type": "stream",
          "text": [
            "Iteration [ 2600/ 5000] | d_real_loss: 0.0750 | d_Y_loss: 0.0235 | d_X_loss: 0.0208 | d_fake_loss: 0.0444 | g_loss: 6.2001\n",
            "Saved results/samples_cyclegan/sample-002600-X-Y.png\n",
            "Saved results/samples_cyclegan/sample-002600-Y-X.png\n"
          ],
          "name": "stdout"
        },
        {
          "output_type": "stream",
          "text": [
            "WARNING:root:Lossy conversion from float64 to uint8. Range [-1.0, 1.0]. Convert image to uint8 prior to saving to suppress this warning.\n",
            "WARNING:root:Lossy conversion from float64 to uint8. Range [-1.0, 1.0]. Convert image to uint8 prior to saving to suppress this warning.\n"
          ],
          "name": "stderr"
        },
        {
          "output_type": "stream",
          "text": [
            "Iteration [ 2800/ 5000] | d_real_loss: 0.0370 | d_Y_loss: 0.0293 | d_X_loss: 0.0132 | d_fake_loss: 0.0425 | g_loss: 6.2886\n",
            "Saved results/samples_cyclegan/sample-002800-X-Y.png\n",
            "Saved results/samples_cyclegan/sample-002800-Y-X.png\n"
          ],
          "name": "stdout"
        },
        {
          "output_type": "stream",
          "text": [
            "WARNING:root:Lossy conversion from float64 to uint8. Range [-1.0, 1.0]. Convert image to uint8 prior to saving to suppress this warning.\n",
            "WARNING:root:Lossy conversion from float64 to uint8. Range [-1.0, 1.0]. Convert image to uint8 prior to saving to suppress this warning.\n"
          ],
          "name": "stderr"
        },
        {
          "output_type": "stream",
          "text": [
            "Iteration [ 3000/ 5000] | d_real_loss: 0.0309 | d_Y_loss: 0.0231 | d_X_loss: 0.0158 | d_fake_loss: 0.0390 | g_loss: 6.0874\n",
            "Saved results/samples_cyclegan/sample-003000-X-Y.png\n",
            "Saved results/samples_cyclegan/sample-003000-Y-X.png\n"
          ],
          "name": "stdout"
        },
        {
          "output_type": "stream",
          "text": [
            "WARNING:root:Lossy conversion from float64 to uint8. Range [-1.0, 1.0]. Convert image to uint8 prior to saving to suppress this warning.\n",
            "WARNING:root:Lossy conversion from float64 to uint8. Range [-1.0, 1.0]. Convert image to uint8 prior to saving to suppress this warning.\n"
          ],
          "name": "stderr"
        },
        {
          "output_type": "stream",
          "text": [
            "Iteration [ 3200/ 5000] | d_real_loss: 0.0533 | d_Y_loss: 0.0119 | d_X_loss: 0.0175 | d_fake_loss: 0.0294 | g_loss: 5.6501\n",
            "Saved results/samples_cyclegan/sample-003200-X-Y.png\n",
            "Saved results/samples_cyclegan/sample-003200-Y-X.png\n"
          ],
          "name": "stdout"
        },
        {
          "output_type": "stream",
          "text": [
            "WARNING:root:Lossy conversion from float64 to uint8. Range [-1.0, 1.0]. Convert image to uint8 prior to saving to suppress this warning.\n",
            "WARNING:root:Lossy conversion from float64 to uint8. Range [-1.0, 1.0]. Convert image to uint8 prior to saving to suppress this warning.\n"
          ],
          "name": "stderr"
        },
        {
          "output_type": "stream",
          "text": [
            "Iteration [ 3400/ 5000] | d_real_loss: 0.0249 | d_Y_loss: 0.0231 | d_X_loss: 0.0228 | d_fake_loss: 0.0459 | g_loss: 5.3639\n",
            "Saved results/samples_cyclegan/sample-003400-X-Y.png\n",
            "Saved results/samples_cyclegan/sample-003400-Y-X.png\n"
          ],
          "name": "stdout"
        },
        {
          "output_type": "stream",
          "text": [
            "WARNING:root:Lossy conversion from float64 to uint8. Range [-1.0, 1.0]. Convert image to uint8 prior to saving to suppress this warning.\n",
            "WARNING:root:Lossy conversion from float64 to uint8. Range [-1.0, 1.0]. Convert image to uint8 prior to saving to suppress this warning.\n"
          ],
          "name": "stderr"
        },
        {
          "output_type": "stream",
          "text": [
            "Iteration [ 3600/ 5000] | d_real_loss: 0.0497 | d_Y_loss: 0.0122 | d_X_loss: 0.0150 | d_fake_loss: 0.0272 | g_loss: 5.3265\n",
            "Saved results/samples_cyclegan/sample-003600-X-Y.png\n",
            "Saved results/samples_cyclegan/sample-003600-Y-X.png\n"
          ],
          "name": "stdout"
        },
        {
          "output_type": "stream",
          "text": [
            "WARNING:root:Lossy conversion from float64 to uint8. Range [-1.0, 1.0]. Convert image to uint8 prior to saving to suppress this warning.\n",
            "WARNING:root:Lossy conversion from float64 to uint8. Range [-1.0, 1.0]. Convert image to uint8 prior to saving to suppress this warning.\n"
          ],
          "name": "stderr"
        },
        {
          "output_type": "stream",
          "text": [
            "Iteration [ 3800/ 5000] | d_real_loss: 0.0468 | d_Y_loss: 0.0106 | d_X_loss: 0.0321 | d_fake_loss: 0.0427 | g_loss: 6.1909\n",
            "Saved results/samples_cyclegan/sample-003800-X-Y.png\n",
            "Saved results/samples_cyclegan/sample-003800-Y-X.png\n"
          ],
          "name": "stdout"
        },
        {
          "output_type": "stream",
          "text": [
            "WARNING:root:Lossy conversion from float64 to uint8. Range [-1.0, 1.0]. Convert image to uint8 prior to saving to suppress this warning.\n",
            "WARNING:root:Lossy conversion from float64 to uint8. Range [-1.0, 1.0]. Convert image to uint8 prior to saving to suppress this warning.\n"
          ],
          "name": "stderr"
        },
        {
          "output_type": "stream",
          "text": [
            "Iteration [ 4000/ 5000] | d_real_loss: 0.0484 | d_Y_loss: 0.0220 | d_X_loss: 0.0114 | d_fake_loss: 0.0334 | g_loss: 6.1731\n",
            "Saved results/samples_cyclegan/sample-004000-X-Y.png\n",
            "Saved results/samples_cyclegan/sample-004000-Y-X.png\n"
          ],
          "name": "stdout"
        },
        {
          "output_type": "stream",
          "text": [
            "WARNING:root:Lossy conversion from float64 to uint8. Range [-1.0, 1.0]. Convert image to uint8 prior to saving to suppress this warning.\n",
            "WARNING:root:Lossy conversion from float64 to uint8. Range [-1.0, 1.0]. Convert image to uint8 prior to saving to suppress this warning.\n"
          ],
          "name": "stderr"
        },
        {
          "output_type": "stream",
          "text": [
            "Iteration [ 4200/ 5000] | d_real_loss: 0.0507 | d_Y_loss: 0.0170 | d_X_loss: 0.0125 | d_fake_loss: 0.0295 | g_loss: 5.8656\n",
            "Saved results/samples_cyclegan/sample-004200-X-Y.png\n",
            "Saved results/samples_cyclegan/sample-004200-Y-X.png\n"
          ],
          "name": "stdout"
        },
        {
          "output_type": "stream",
          "text": [
            "WARNING:root:Lossy conversion from float64 to uint8. Range [-1.0, 1.0]. Convert image to uint8 prior to saving to suppress this warning.\n",
            "WARNING:root:Lossy conversion from float64 to uint8. Range [-1.0, 1.0]. Convert image to uint8 prior to saving to suppress this warning.\n"
          ],
          "name": "stderr"
        },
        {
          "output_type": "stream",
          "text": [
            "Iteration [ 4400/ 5000] | d_real_loss: 0.0486 | d_Y_loss: 0.0189 | d_X_loss: 0.0165 | d_fake_loss: 0.0353 | g_loss: 6.3822\n",
            "Saved results/samples_cyclegan/sample-004400-X-Y.png\n",
            "Saved results/samples_cyclegan/sample-004400-Y-X.png\n"
          ],
          "name": "stdout"
        },
        {
          "output_type": "stream",
          "text": [
            "WARNING:root:Lossy conversion from float64 to uint8. Range [-1.0, 1.0]. Convert image to uint8 prior to saving to suppress this warning.\n",
            "WARNING:root:Lossy conversion from float64 to uint8. Range [-1.0, 1.0]. Convert image to uint8 prior to saving to suppress this warning.\n"
          ],
          "name": "stderr"
        },
        {
          "output_type": "stream",
          "text": [
            "Iteration [ 4600/ 5000] | d_real_loss: 0.0295 | d_Y_loss: 0.0480 | d_X_loss: 0.0079 | d_fake_loss: 0.0559 | g_loss: 6.0507\n",
            "Saved results/samples_cyclegan/sample-004600-X-Y.png\n",
            "Saved results/samples_cyclegan/sample-004600-Y-X.png\n"
          ],
          "name": "stdout"
        },
        {
          "output_type": "stream",
          "text": [
            "WARNING:root:Lossy conversion from float64 to uint8. Range [-1.0, 1.0]. Convert image to uint8 prior to saving to suppress this warning.\n",
            "WARNING:root:Lossy conversion from float64 to uint8. Range [-1.0, 1.0]. Convert image to uint8 prior to saving to suppress this warning.\n"
          ],
          "name": "stderr"
        },
        {
          "output_type": "stream",
          "text": [
            "Iteration [ 4800/ 5000] | d_real_loss: 0.0516 | d_Y_loss: 0.0056 | d_X_loss: 0.0217 | d_fake_loss: 0.0273 | g_loss: 5.7870\n",
            "Saved results/samples_cyclegan/sample-004800-X-Y.png\n",
            "Saved results/samples_cyclegan/sample-004800-Y-X.png\n"
          ],
          "name": "stdout"
        },
        {
          "output_type": "stream",
          "text": [
            "WARNING:root:Lossy conversion from float64 to uint8. Range [-1.0, 1.0]. Convert image to uint8 prior to saving to suppress this warning.\n",
            "WARNING:root:Lossy conversion from float64 to uint8. Range [-1.0, 1.0]. Convert image to uint8 prior to saving to suppress this warning.\n"
          ],
          "name": "stderr"
        },
        {
          "output_type": "stream",
          "text": [
            "Iteration [ 5000/ 5000] | d_real_loss: 0.0340 | d_Y_loss: 0.0116 | d_X_loss: 0.0079 | d_fake_loss: 0.0195 | g_loss: 5.8304\n",
            "Saved results/samples_cyclegan/sample-005000-X-Y.png\n",
            "Saved results/samples_cyclegan/sample-005000-Y-X.png\n",
            "adding image results/samples_cyclegan/sample-000200-X-Y.png\n",
            "adding image results/samples_cyclegan/sample-000400-X-Y.png\n",
            "adding image results/samples_cyclegan/sample-000600-X-Y.png\n",
            "adding image results/samples_cyclegan/sample-000800-X-Y.png\n",
            "adding image results/samples_cyclegan/sample-001000-X-Y.png\n",
            "adding image results/samples_cyclegan/sample-001200-X-Y.png\n",
            "adding image results/samples_cyclegan/sample-001400-X-Y.png\n",
            "adding image results/samples_cyclegan/sample-001600-X-Y.png\n",
            "adding image results/samples_cyclegan/sample-001800-X-Y.png\n",
            "adding image results/samples_cyclegan/sample-002000-X-Y.png\n",
            "adding image results/samples_cyclegan/sample-002200-X-Y.png\n",
            "adding image results/samples_cyclegan/sample-002400-X-Y.png\n",
            "adding image results/samples_cyclegan/sample-002600-X-Y.png\n",
            "adding image results/samples_cyclegan/sample-002800-X-Y.png\n",
            "adding image results/samples_cyclegan/sample-003000-X-Y.png\n",
            "adding image results/samples_cyclegan/sample-003200-X-Y.png\n",
            "adding image results/samples_cyclegan/sample-003400-X-Y.png\n",
            "adding image results/samples_cyclegan/sample-003600-X-Y.png\n",
            "adding image results/samples_cyclegan/sample-003800-X-Y.png\n",
            "adding image results/samples_cyclegan/sample-004000-X-Y.png\n",
            "adding image results/samples_cyclegan/sample-004200-X-Y.png\n",
            "adding image results/samples_cyclegan/sample-004400-X-Y.png\n",
            "adding image results/samples_cyclegan/sample-004600-X-Y.png\n",
            "adding image results/samples_cyclegan/sample-004800-X-Y.png\n",
            "adding image results/samples_cyclegan/sample-005000-X-Y.png\n",
            "adding image results/samples_cyclegan/sample-000200-Y-X.png\n",
            "adding image results/samples_cyclegan/sample-000400-Y-X.png\n",
            "adding image results/samples_cyclegan/sample-000600-Y-X.png\n",
            "adding image results/samples_cyclegan/sample-000800-Y-X.png\n",
            "adding image results/samples_cyclegan/sample-001000-Y-X.png\n",
            "adding image results/samples_cyclegan/sample-001200-Y-X.png\n",
            "adding image results/samples_cyclegan/sample-001400-Y-X.png\n",
            "adding image results/samples_cyclegan/sample-001600-Y-X.png\n",
            "adding image results/samples_cyclegan/sample-001800-Y-X.png\n",
            "adding image results/samples_cyclegan/sample-002000-Y-X.png\n",
            "adding image results/samples_cyclegan/sample-002200-Y-X.png\n",
            "adding image results/samples_cyclegan/sample-002400-Y-X.png\n",
            "adding image results/samples_cyclegan/sample-002600-Y-X.png\n",
            "adding image results/samples_cyclegan/sample-002800-Y-X.png\n",
            "adding image results/samples_cyclegan/sample-003000-Y-X.png\n",
            "adding image results/samples_cyclegan/sample-003200-Y-X.png\n",
            "adding image results/samples_cyclegan/sample-003400-Y-X.png\n",
            "adding image results/samples_cyclegan/sample-003600-Y-X.png\n",
            "adding image results/samples_cyclegan/sample-003800-Y-X.png\n",
            "adding image results/samples_cyclegan/sample-004000-Y-X.png\n",
            "adding image results/samples_cyclegan/sample-004200-Y-X.png\n",
            "adding image results/samples_cyclegan/sample-004400-Y-X.png\n",
            "adding image results/samples_cyclegan/sample-004600-Y-X.png\n",
            "adding image results/samples_cyclegan/sample-004800-Y-X.png\n",
            "adding image results/samples_cyclegan/sample-005000-Y-X.png\n"
          ],
          "name": "stdout"
        }
      ]
    },
    {
      "cell_type": "code",
      "metadata": {
        "colab_type": "code",
        "id": "HZAhfWBkAUQa",
        "colab": {}
      },
      "source": [
        ""
      ],
      "execution_count": 0,
      "outputs": []
    }
  ]
}